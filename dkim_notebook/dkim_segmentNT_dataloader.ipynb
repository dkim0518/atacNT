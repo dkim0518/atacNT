{
 "cells": [
  {
   "cell_type": "markdown",
   "metadata": {},
   "source": [
    "# Try the example code snippet from the Readme"
   ]
  },
  {
   "cell_type": "code",
   "execution_count": 45,
   "metadata": {},
   "outputs": [
    {
     "name": "stdout",
     "output_type": "stream",
     "text": [
      "Devices found: [TpuDevice(id=0, process_index=0, coords=(0,0,0), core_on_chip=0), TpuDevice(id=1, process_index=0, coords=(1,0,0), core_on_chip=0), TpuDevice(id=2, process_index=0, coords=(0,1,0), core_on_chip=0), TpuDevice(id=3, process_index=0, coords=(1,1,0), core_on_chip=0)]\n"
     ]
    },
    {
     "name": "stderr",
     "output_type": "stream",
     "text": [
      "/opt/conda/envs/trix/lib/python3.10/site-packages/jax/_src/interpreters/mlir.py:663: UserWarning: Some donated buffers were not usable: ShapedArray(float32[1024,8192]), ShapedArray(float32[4096,1024]), ShapedArray(float32[1024]), ShapedArray(float32[1024]), ShapedArray(float32[1024]), ShapedArray(float32[1024,1024]), ShapedArray(float32[1024]), ShapedArray(float32[1024,1024]), ShapedArray(float32[1024]), ShapedArray(float32[1024,1024]), ShapedArray(float32[1024]), ShapedArray(float32[1024,1024]), ShapedArray(float32[1024]), ShapedArray(float32[1024]), ShapedArray(float32[1024,8192]), ShapedArray(float32[4096,1024]), ShapedArray(float32[1024]), ShapedArray(float32[1024]), ShapedArray(float32[1024]), ShapedArray(float32[1024,1024]), ShapedArray(float32[1024]), ShapedArray(float32[1024,1024]), ShapedArray(float32[1024]), ShapedArray(float32[1024,1024]), ShapedArray(float32[1024]), ShapedArray(float32[1024,1024]), ShapedArray(float32[1024]), ShapedArray(float32[1024]), ShapedArray(float32[1024,8192]), ShapedArray(float32[4096,1024]), ShapedArray(float32[1024]), ShapedArray(float32[1024]), ShapedArray(float32[1024]), ShapedArray(float32[1024,1024]), ShapedArray(float32[1024]), ShapedArray(float32[1024,1024]), ShapedArray(float32[1024]), ShapedArray(float32[1024,1024]), ShapedArray(float32[1024]), ShapedArray(float32[1024,1024]), ShapedArray(float32[1024]), ShapedArray(float32[1024]), ShapedArray(float32[1024,8192]), ShapedArray(float32[4096,1024]), ShapedArray(float32[1024]), ShapedArray(float32[1024]), ShapedArray(float32[1024]), ShapedArray(float32[1024,1024]), ShapedArray(float32[1024]), ShapedArray(float32[1024,1024]), ShapedArray(float32[1024]), ShapedArray(float32[1024,1024]), ShapedArray(float32[1024]), ShapedArray(float32[1024,1024]), ShapedArray(float32[1024]), ShapedArray(float32[1024]), ShapedArray(float32[1024,8192]), ShapedArray(float32[4096,1024]), ShapedArray(float32[1024]), ShapedArray(float32[1024]), ShapedArray(float32[1024]), ShapedArray(float32[1024,1024]), ShapedArray(float32[1024]), ShapedArray(float32[1024,1024]), ShapedArray(float32[1024]), ShapedArray(float32[1024,1024]), ShapedArray(float32[1024]), ShapedArray(float32[1024,1024]), ShapedArray(float32[1024]), ShapedArray(float32[1024]), ShapedArray(float32[1024,8192]), ShapedArray(float32[4096,1024]), ShapedArray(float32[1024]), ShapedArray(float32[1024]), ShapedArray(float32[1024]), ShapedArray(float32[1024,1024]), ShapedArray(float32[1024]), ShapedArray(float32[1024,1024]), ShapedArray(float32[1024]), ShapedArray(float32[1024,1024]), ShapedArray(float32[1024]), ShapedArray(float32[1024,1024]), ShapedArray(float32[1024]), ShapedArray(float32[1024]), ShapedArray(float32[1024,8192]), ShapedArray(float32[4096,1024]), ShapedArray(float32[1024]), ShapedArray(float32[1024]), ShapedArray(float32[1024]), ShapedArray(float32[1024,1024]), ShapedArray(float32[1024]), ShapedArray(float32[1024,1024]), ShapedArray(float32[1024]), ShapedArray(float32[1024,1024]), ShapedArray(float32[1024]), ShapedArray(float32[1024,1024]), ShapedArray(float32[1024]), ShapedArray(float32[1024]), ShapedArray(float32[1024,8192]), ShapedArray(float32[4096,1024]), ShapedArray(float32[1024]), ShapedArray(float32[1024]), ShapedArray(float32[1024]), ShapedArray(float32[1024,1024]), ShapedArray(float32[1024]), ShapedArray(float32[1024,1024]), ShapedArray(float32[1024]), ShapedArray(float32[1024,1024]), ShapedArray(float32[1024]), ShapedArray(float32[1024,1024]), ShapedArray(float32[1024]), ShapedArray(float32[1024]), ShapedArray(float32[1024,8192]), ShapedArray(float32[4096,1024]), ShapedArray(float32[1024]), ShapedArray(float32[1024]), ShapedArray(float32[1024]), ShapedArray(float32[1024,1024]), ShapedArray(float32[1024]), ShapedArray(float32[1024,1024]), ShapedArray(float32[1024]), ShapedArray(float32[1024,1024]), ShapedArray(float32[1024]), ShapedArray(float32[1024,1024]), ShapedArray(float32[1024]), ShapedArray(float32[1024]), ShapedArray(float32[1024,8192]), ShapedArray(float32[4096,1024]), ShapedArray(float32[1024]), ShapedArray(float32[1024]), ShapedArray(float32[1024]), ShapedArray(float32[1024,1024]), ShapedArray(float32[1024]), ShapedArray(float32[1024,1024]), ShapedArray(float32[1024]), ShapedArray(float32[1024,1024]), ShapedArray(float32[1024]), ShapedArray(float32[1024,1024]), ShapedArray(float32[1024]), ShapedArray(float32[1024]), ShapedArray(float32[1024,8192]), ShapedArray(float32[4096,1024]), ShapedArray(float32[1024]), ShapedArray(float32[1024]), ShapedArray(float32[1024]), ShapedArray(float32[1024,1024]), ShapedArray(float32[1024]), ShapedArray(float32[1024,1024]), ShapedArray(float32[1024]), ShapedArray(float32[1024,1024]), ShapedArray(float32[1024]), ShapedArray(float32[1024,1024]), ShapedArray(float32[1024]), ShapedArray(float32[1024]), ShapedArray(float32[1024,8192]), ShapedArray(float32[4096,1024]), ShapedArray(float32[1024]), ShapedArray(float32[1024]), ShapedArray(float32[1024]), ShapedArray(float32[1024,1024]), ShapedArray(float32[1024]), ShapedArray(float32[1024,1024]), ShapedArray(float32[1024]), ShapedArray(float32[1024,1024]), ShapedArray(float32[1024]), ShapedArray(float32[1024,1024]), ShapedArray(float32[1024]), ShapedArray(float32[1024]), ShapedArray(float32[1024,8192]), ShapedArray(float32[4096,1024]), ShapedArray(float32[1024]), ShapedArray(float32[1024]), ShapedArray(float32[1024]), ShapedArray(float32[1024,1024]), ShapedArray(float32[1024]), ShapedArray(float32[1024,1024]), ShapedArray(float32[1024]), ShapedArray(float32[1024,1024]), ShapedArray(float32[1024]), ShapedArray(float32[1024,1024]), ShapedArray(float32[1024]), ShapedArray(float32[1024]), ShapedArray(float32[1024,8192]), ShapedArray(float32[4096,1024]), ShapedArray(float32[1024]), ShapedArray(float32[1024]), ShapedArray(float32[1024]), ShapedArray(float32[1024,1024]), ShapedArray(float32[1024]), ShapedArray(float32[1024,1024]), ShapedArray(float32[1024]), ShapedArray(float32[1024,1024]), ShapedArray(float32[1024]), ShapedArray(float32[1024,1024]), ShapedArray(float32[1024]), ShapedArray(float32[1024]), ShapedArray(float32[1024,8192]), ShapedArray(float32[4096,1024]), ShapedArray(float32[1024]), ShapedArray(float32[1024]), ShapedArray(float32[1024]), ShapedArray(float32[1024,1024]), ShapedArray(float32[1024]), ShapedArray(float32[1024,1024]), ShapedArray(float32[1024]), ShapedArray(float32[1024,1024]), ShapedArray(float32[1024]), ShapedArray(float32[1024,1024]), ShapedArray(float32[1024]), ShapedArray(float32[1024]), ShapedArray(float32[1024,8192]), ShapedArray(float32[4096,1024]), ShapedArray(float32[1024]), ShapedArray(float32[1024]), ShapedArray(float32[1024]), ShapedArray(float32[1024,1024]), ShapedArray(float32[1024]), ShapedArray(float32[1024,1024]), ShapedArray(float32[1024]), ShapedArray(float32[1024,1024]), ShapedArray(float32[1024]), ShapedArray(float32[1024,1024]), ShapedArray(float32[1024]), ShapedArray(float32[1024]), ShapedArray(float32[1024,8192]), ShapedArray(float32[4096,1024]), ShapedArray(float32[1024]), ShapedArray(float32[1024]), ShapedArray(float32[1024]), ShapedArray(float32[1024,1024]), ShapedArray(float32[1024]), ShapedArray(float32[1024,1024]), ShapedArray(float32[1024]), ShapedArray(float32[1024,1024]), ShapedArray(float32[1024]), ShapedArray(float32[1024,1024]), ShapedArray(float32[1024]), ShapedArray(float32[1024]), ShapedArray(float32[1024,8192]), ShapedArray(float32[4096,1024]), ShapedArray(float32[1024]), ShapedArray(float32[1024]), ShapedArray(float32[1024]), ShapedArray(float32[1024,1024]), ShapedArray(float32[1024]), ShapedArray(float32[1024,1024]), ShapedArray(float32[1024]), ShapedArray(float32[1024,1024]), ShapedArray(float32[1024]), ShapedArray(float32[1024,1024]), ShapedArray(float32[1024]), ShapedArray(float32[1024]), ShapedArray(float32[1024,8192]), ShapedArray(float32[4096,1024]), ShapedArray(float32[1024]), ShapedArray(float32[1024]), ShapedArray(float32[1024]), ShapedArray(float32[1024,1024]), ShapedArray(float32[1024]), ShapedArray(float32[1024,1024]), ShapedArray(float32[1024]), ShapedArray(float32[1024,1024]), ShapedArray(float32[1024]), ShapedArray(float32[1024,1024]), ShapedArray(float32[1024]), ShapedArray(float32[1024]), ShapedArray(float32[1024,8192]), ShapedArray(float32[4096,1024]), ShapedArray(float32[1024]), ShapedArray(float32[1024]), ShapedArray(float32[1024]), ShapedArray(float32[1024,1024]), ShapedArray(float32[1024]), ShapedArray(float32[1024,1024]), ShapedArray(float32[1024]), ShapedArray(float32[1024,1024]), ShapedArray(float32[1024]), ShapedArray(float32[1024,1024]), ShapedArray(float32[1024]), ShapedArray(float32[1024]), ShapedArray(float32[1024,8192]), ShapedArray(float32[4096,1024]), ShapedArray(float32[1024]), ShapedArray(float32[1024]), ShapedArray(float32[1024]), ShapedArray(float32[1024,1024]), ShapedArray(float32[1024]), ShapedArray(float32[1024,1024]), ShapedArray(float32[1024]), ShapedArray(float32[1024,1024]), ShapedArray(float32[1024]), ShapedArray(float32[1024,1024]), ShapedArray(float32[1024]), ShapedArray(float32[1024]), ShapedArray(float32[1024,8192]), ShapedArray(float32[4096,1024]), ShapedArray(float32[1024]), ShapedArray(float32[1024]), ShapedArray(float32[1024]), ShapedArray(float32[1024,1024]), ShapedArray(float32[1024]), ShapedArray(float32[1024,1024]), ShapedArray(float32[1024]), ShapedArray(float32[1024,1024]), ShapedArray(float32[1024]), ShapedArray(float32[1024,1024]), ShapedArray(float32[1024]), ShapedArray(float32[1024]), ShapedArray(float32[1024,8192]), ShapedArray(float32[4096,1024]), ShapedArray(float32[1024]), ShapedArray(float32[1024]), ShapedArray(float32[1024]), ShapedArray(float32[1024,1024]), ShapedArray(float32[1024]), ShapedArray(float32[1024,1024]), ShapedArray(float32[1024]), ShapedArray(float32[1024,1024]), ShapedArray(float32[1024]), ShapedArray(float32[1024,1024]), ShapedArray(float32[1024]), ShapedArray(float32[1024]), ShapedArray(float32[1024,8192]), ShapedArray(float32[4096,1024]), ShapedArray(float32[1024]), ShapedArray(float32[1024]), ShapedArray(float32[1024]), ShapedArray(float32[1024,1024]), ShapedArray(float32[1024]), ShapedArray(float32[1024,1024]), ShapedArray(float32[1024]), ShapedArray(float32[1024,1024]), ShapedArray(float32[1024]), ShapedArray(float32[1024,1024]), ShapedArray(float32[1024]), ShapedArray(float32[1024]), ShapedArray(float32[1024,8192]), ShapedArray(float32[4096,1024]), ShapedArray(float32[1024]), ShapedArray(float32[1024]), ShapedArray(float32[1024]), ShapedArray(float32[1024,1024]), ShapedArray(float32[1024]), ShapedArray(float32[1024,1024]), ShapedArray(float32[1024]), ShapedArray(float32[1024,1024]), ShapedArray(float32[1024]), ShapedArray(float32[1024,1024]), ShapedArray(float32[1024]), ShapedArray(float32[1024]), ShapedArray(float32[1024,8192]), ShapedArray(float32[4096,1024]), ShapedArray(float32[1024]), ShapedArray(float32[1024]), ShapedArray(float32[1024]), ShapedArray(float32[1024,1024]), ShapedArray(float32[1024]), ShapedArray(float32[1024,1024]), ShapedArray(float32[1024]), ShapedArray(float32[1024,1024]), ShapedArray(float32[1024]), ShapedArray(float32[1024,1024]), ShapedArray(float32[1024]), ShapedArray(float32[1024]), ShapedArray(float32[1024,8192]), ShapedArray(float32[4096,1024]), ShapedArray(float32[1024]), ShapedArray(float32[1024]), ShapedArray(float32[1024]), ShapedArray(float32[1024,1024]), ShapedArray(float32[1024]), ShapedArray(float32[1024,1024]), ShapedArray(float32[1024]), ShapedArray(float32[1024,1024]), ShapedArray(float32[1024]), ShapedArray(float32[1024,1024]), ShapedArray(float32[1024]), ShapedArray(float32[1024]), ShapedArray(float32[1024,8192]), ShapedArray(float32[4096,1024]), ShapedArray(float32[1024]), ShapedArray(float32[1024]), ShapedArray(float32[1024]), ShapedArray(float32[1024,1024]), ShapedArray(float32[1024]), ShapedArray(float32[1024,1024]), ShapedArray(float32[1024]), ShapedArray(float32[1024,1024]), ShapedArray(float32[1024]), ShapedArray(float32[1024,1024]), ShapedArray(float32[1024]), ShapedArray(float32[1024]), ShapedArray(float32[1024,8192]), ShapedArray(float32[4096,1024]), ShapedArray(float32[1024]), ShapedArray(float32[1024]), ShapedArray(float32[1024]), ShapedArray(float32[1024,1024]), ShapedArray(float32[1024]), ShapedArray(float32[1024,1024]), ShapedArray(float32[1024]), ShapedArray(float32[1024,1024]), ShapedArray(float32[1024]), ShapedArray(float32[1024,1024]), ShapedArray(float32[1024]), ShapedArray(float32[1024]), ShapedArray(float32[4107,1024]), ShapedArray(float32[1024]), ShapedArray(float32[1024]), ShapedArray(float32[4107]), ShapedArray(float32[1024,4107]), ShapedArray(float32[1024]), ShapedArray(float32[1024,1024]), ShapedArray(float32[1024]), ShapedArray(float32[1024]), ShapedArray(float32[168]), ShapedArray(float32[1024,168]), ShapedArray(float32[1024]), ShapedArray(float32[3,1024,1024]), ShapedArray(float32[1024]), ShapedArray(float32[3,1024,1024]), ShapedArray(float32[2048]), ShapedArray(float32[3,1024,2048]), ShapedArray(float32[2048]), ShapedArray(float32[3,2048,2048]), ShapedArray(float32[1024]), ShapedArray(float32[3,1024,1024]), ShapedArray(float32[1024]), ShapedArray(float32[3,1024,1024]), ShapedArray(float32[2048]), ShapedArray(float32[3,2048,2048]), ShapedArray(float32[2048]), ShapedArray(float32[3,2048,2048]), ShapedArray(float32[1024]), ShapedArray(float32[3,1024,2048]), ShapedArray(float32[1024]), ShapedArray(float32[3,1024,1024]).\n",
      "See an explanation at https://jax.readthedocs.io/en/latest/faq.html#buffer-donation.\n",
      "  warnings.warn(f\"Some donated buffers were not usable: {', '.join(unused_donations)}.\\n{msg}\")\n"
     ]
    },
    {
     "name": "stdout",
     "output_type": "stream",
     "text": [
      "Probabilities shape: (4, 2, 48, 14)\n",
      "Features inferred: ['protein_coding_gene', 'lncRNA', 'exon', 'intron', 'splice_donor', 'splice_acceptor', '5UTR', '3UTR', 'CTCF-bound', 'polyA_signal', 'enhancer_Tissue_specific', 'enhancer_Tissue_invariant', 'promoter_Tissue_specific', 'promoter_Tissue_invariant']\n",
      "Intron probabilities shape: (4, 2, 48)\n"
     ]
    }
   ],
   "source": [
    "import haiku as hk\n",
    "import jax\n",
    "import jax.numpy as jnp\n",
    "from nucleotide_transformer.pretrained import get_pretrained_segment_nt_model\n",
    "\n",
    "# Initialize CPU as default JAX device. This makes the code robust to memory leakage on\n",
    "# the devices.\n",
    "jax.config.update(\"jax_platform_name\", \"cpu\")\n",
    "\n",
    "backend = \"tpu\"\n",
    "devices = jax.devices(backend)\n",
    "num_devices = len(devices)\n",
    "print(f\"Devices found: {devices}\")\n",
    "\n",
    "# The number of DNA tokens (excluding the CLS token prepended) needs to be dividible by\n",
    "# 2 to the power of the number of downsampling block, i.e 4.\n",
    "max_num_nucleotides = 8\n",
    "\n",
    "assert max_num_nucleotides % 4 == 0, (\n",
    "    \"The number of DNA tokens (excluding the CLS token prepended) needs to be dividible by\"\n",
    "     \"2 to the power of the number of downsampling block, i.e 4.\")\n",
    "\n",
    "parameters, forward_fn, tokenizer, config = get_pretrained_segment_nt_model(\n",
    "    model_name=\"segment_nt\",\n",
    "    embeddings_layers_to_save=(29,),\n",
    "    attention_maps_to_save=((1, 4), (7, 10)),\n",
    "    max_positions=max_num_nucleotides + 1,\n",
    "    # If the progress bar gets stuck at the start of the model wieghts download, \n",
    "    # you can set verbose=False to download without the progress bar.\n",
    "    verbose=True\n",
    ")\n",
    "forward_fn = hk.transform(forward_fn)\n",
    "apply_fn = jax.pmap(forward_fn.apply, devices=devices, donate_argnums=(0,))\n",
    "\n",
    "random_key = jax.random.PRNGKey(seed=0)\n",
    "keys = jax.device_put_replicated(random_key, devices=devices)\n",
    "parameters = jax.device_put_replicated(parameters, devices=devices)\n",
    "\n",
    "# Get data and tokenize it\n",
    "sequences = [\"ATTCCGATTCCGATTCCAACGGATTATTCCGATTAACCGATTCCAATT\", \"ATTTCTCTCTCTCTCTGAGATCGATGATTTCTCTCTCATCGAACTATG\"]\n",
    "tokens_ids = [b[1] for b in tokenizer.batch_tokenize(sequences)]\n",
    "tokens_str = [b[0] for b in tokenizer.batch_tokenize(sequences)]\n",
    "tokens = jnp.stack([jnp.asarray(tokens_ids, dtype=jnp.int32)]*num_devices, axis=0)\n",
    "# tokens = jnp.asarray(tokens_ids, dtype=jnp.int32)\n",
    "\n",
    "# Infer on the sequence\n",
    "outs = apply_fn(parameters, keys, tokens)\n",
    "# Obtain the logits over the genomic features\n",
    "logits = outs[\"logits\"]\n",
    "# Transform them in probabilities\n",
    "probabilities = jnp.asarray(jax.nn.softmax(logits, axis=-1))[...,-1]\n",
    "print(f\"Probabilities shape: {probabilities.shape}\")\n",
    "\n",
    "print(f\"Features inferred: {config.features}\")\n",
    "\n",
    "# Get probabilities associated with intron\n",
    "idx_intron = config.features.index(\"intron\")\n",
    "probabilities_intron = probabilities[..., idx_intron]\n",
    "print(f\"Intron probabilities shape: {probabilities_intron.shape}\")"
   ]
  },
  {
   "cell_type": "markdown",
   "metadata": {},
   "source": [
    "# Try messing up with the dataloader of SegmentNT"
   ]
  },
  {
   "cell_type": "code",
   "execution_count": 47,
   "metadata": {},
   "outputs": [],
   "source": [
    "from Bio import SeqIO\n",
    "import gzip\n",
    "\n",
    "fasta_path = \"Homo_sapiens.GRCh38.dna.chromosome.20.fa.gz\"\n",
    "\n",
    "with gzip.open(fasta_path, \"rt\") as handle:\n",
    "    record = next(SeqIO.parse(handle, \"fasta\"))\n",
    "    chr20 = str(record.seq)"
   ]
  },
  {
   "cell_type": "code",
   "execution_count": 50,
   "metadata": {},
   "outputs": [
    {
     "data": {
      "text/plain": [
       "'TGAGAAAACCGAAGGAAACCTTTTAATGTTCATACCACATCCATATCTGATCACAAGCATTGGTTATCTCACCAGCAGAAGCACTTTTCTTCAGCCATCTCTGTAAGTCAGCAAACTACTTCATGACAGCTCCTTTGTAACCAGAGGACCCAAATTTTTCCAGAGTACGACTGGTTACCTTTTGGCTCATTGATTGACCCTCAGGTTTTTTATATTCTGATTTAACACACAAAAGTGTGTTCATATAGTTACATATATATGTATATATGAAAAATATTTGTGTACATATTTCTATATATGTATGTAGAGCTGAGACAAAAGTTTTACAATGAACAGCACCTTACTCTAAGCAACACACTCTTATTTCTATTCGCTTTAATCCTTTTTCTTTTTTTTTTTTTTTTTTTTTTTTTTGACAGAGCCTTGCTCTGTTGCCCAGGCTAGAGTGCAGCCTCTGCCTCCCGGGTTCAAGCGATTCTCCTTCCTCAGCCTCCCGAGTAGCTGGGATTACAGACATGCTCCACCACGTCCAGCTAATTTTTTTATTTTTTGGTAGAGACGGGGTTTCACCATGTTGGCCAGGCTGGTCTCGAACTCCTGATCTTAAGTGATCCGCCTGCCTCGGCCTCCTAAAGTGCTGGATTATAGCCCACCCAATCCTATTTTTTTAAATGCTGTCCATTAATGCATTCTGACTTCTTGCTTGAAAACCCCTGGTTTAGTGGATAAGCACCTGTAACTCCAGGAAGATTCAGGATTAAGGGCAGAAATAATGAAGTAAATTGAAGTATTAGCATTAGTATTTTCCATTACATTTTGGAATCGTCTATTTTGATGTATTCACGACGGTTAAAATAATTTAACATGCTAATGTATGGATTAACTTGGCAATTCCATTTTAAAATATTAAATGGAATAACGATTCTGACTCGTAAGTAGACATGTGTAACAGAATTCAACCACATCTGTAAACCATATTGAAATTATGAGAGTAAGATTTACCAACCACATTTAGGTTTGACATATTAGATTTGTGAGTGAACTATGTACTTGGATTTTGTCAAGTAACTCAATCGCTTAACAAAATAACAATTAAATGTATAAATGCAGTTTATAGCTATACATTATTTTTAAAAATCCCCTTCGAATGACTCTTTAAAACATACCAGGGGATACGCTACTTAAGTATAACTAGGTTTTGGATTTATAACGTTAATATTAATTATTAAAGCAAAACTCATTTCTAAAGAGTCGCCTGAGTGCCCAAAAGACGCCCTCAAGGACAGGGAAGCAGCTGCGATTCACTCAGCGATCACCAGCGCCCAGAATTCAGGGCCGCCCAAGCGGAGGAGCAACACGTGGCCCAGCAAAAGGAGCTGGGTCCCGTGCAGCACAGCAACAAGAAACTGGCCTAGGAAGACGCTGGAGCGTCTTTCTTTCGCACGTTACTGCCTGCTACAGTCATTTAAAAAAAAAAAACCAAAAACAAAAAAAAGAAATAAATTAATAGTACGAAGAAAACTGCGCGAGCTACATTCCCAGCAGGGTCTGCGCCAGAGCGCGCCAGGCACCGCTCCCGTTACGGGTGGGAGGAAAGGATGCACCGCCCACCCGGCGCCGGGGAGGCTCGTCCCCGAGTAGGGGACGGGAACGCCTGGGTCCCGGGGACGTGGGGCGCAGGGTCTGGGGCCCGAGGCCACGGACGAAGCGGGAAGCCGGCTAGGCAGCGGTCTCTGTCTGGGATGGACGCCGCGCCCCACGCGGACCTCCCGCCCCGACTTCACCCAGCTCTGCTGCCCGTAACTCATATGACAAGAACATCAGGAACCGGACTATTACCCCGAAAGGGCCTTCCCAAGTCGTTTCGCCGCCTGCAGTGCCCGACCGGGGGCCGCGCGTCCCCGGCAACCACGCCCGCCCGCGCAGCTGCAGAGGCCGGAAAAGGCCCGCTCGCCCGCGCTCGGCACCACCCAGCCCGCGCTCCGGGCGATACCACCCTGGGCGGCCCCTCCAAAGGCCGGAGATGGTGTCGTCCCCGGCCTCCGATTGGTCGGGGGGGCGGGGGCGTGGCCTCTGGAGCCTGGTTCCGCGCGCCGGAGCGCGCTAGCCGCATTGCGAGCCGAACCCGGGAGCTGGCGCCATGGTGAGGAGTGGTTGCGGGGCGCGGGCGACGCGACGGTGGGGGTTTCGGCCTGCGTTCGGGCCGCAGACAGGGCCTGGGCCTGGGCCTGGGCCTGCGCCTGCGCCTGCGCCTGCCCTGGGAACGGGTTCCGGCAGACGCTGAGGTTGCGTTGACGCTCGCGCCCCGGCTCCCGTTCCAGGTGCTGTTGCACGTGCTGTTTGAGCACGCGGTCGGCTACGCGCTGCTGGCGCTGAAGGAAGTGGAGGAGATCAGTCTGCTGCAGCCGCAGGTGGGTGAGATCCGTGGGCTCCTTTGGCGGCCCCGCAGACCCTCATCGCGCGGGTCCCAGCATGCACAGCGCGCTCCCACGTGGCCGGCCGAGCGGTTCGGGGCGGGGGGACGGGCCTGGAAAGCTCTAGATCCGGGGGTCTTTACCTTGACCCATGGGTAGAATCGCTCTAGCAATTAGAAATAAGCCTCCCGGACGCCGCCCCCGAACGATTAAAGCAGAAGCTGGGATGTGGGGCCCAGGTATCAGCATATTTTAAGAGCTTCCAAGGCTGAGAACCGCTGCTTGACTGCGCCGCAGAGGCAGGAGGGAGGGAAGGAAACCACTTAGCCTCTTTCTCCCCCCAGGTGGAGGAGTCTGTGCTCAACCTGGGCAAATTCCACAGCATCGTTCGTCTGGTGGCCTTTTGTCCCTTTGCCTCATCCCAGGTTGCCTTGGAAAATGCCAACGCCGTGTCTGAAGGTAAGTCGGCCACCGCCAAGTGTCACAGAGAGATGTGGTTCCTTTCGGTATCCTCTCGGGCAGCTTGTGATAGTATTTGCCGTCCTTGGCTGGCTCTGAGTCTGATAGGCGTGAGGCAGTATTTGAGCCATACAATGTGTAATTTGAAATAATTGTCTTCACAGAGCTCAAGGTCTGGGAACTGTGCTAGACCAAACTGTTTAAGCAGACGATGTGGAATGTGTGTTAACGTTTCCTTGTGGGCACTGTAGTGACAAACTATTTTTTATTTTTATTTTTTTTGAGATGGAGTCTGTCCCCCAGGCTGGAGTGCAGTGGCAAGATCTGGGCTCACTGCAACCTCTGCCTCCCTGGTTCAGGCGATTCTCCTGCCTCAGCCTCCCGAGTAACTGGGATTACAGGCCTGTGCCAGCCACCACACCCGGCTAATTTTGTATTTTTGGTAGAGACGGGGTTTCACCATGTTGGCCAGGCTAGTCTCCATCTCCTGACCTCGTGATCCGCCCGCCTCGACCTCCCAAGGTGCTGAGGTTGCAGGCGCGAGCGACGGTGCCCGGCCGACAAAGGGGGGTTTCTTAAAGGGGGTCGGCTTAACACCTACTTGTGCCTGAGGTTTTGCCTAAACACAATCAAGTGTCTGGTTCTCTGCTTTCTGTTCGATTGGAAAGGGCAGTTGGGTAAACACAGGCTGAGAAAAAAAGGTTTGGTTCCAGAAGGCAAATTCTACGAAATACTCGAGGGTGTGTTACAAGCTATTATTTATTGCCCACTTGTGCTATCAGACCTGAATGCAGTTGTTCCCATGGCTGGGCCAGGCTTTGCAGTGATGACTTGCGAATCAAATCTGTCAATCCCCTGAGTGCAATCACTGATGTCTCCATGTCTCTGAGCAATGCCTGATGGGGAGGGATCTAGGTATGCCATCCCAGCGTGCTCGGTGGGACCAGGGTAGTCAGCTGAGGGATGTTAGAGTTGATCGTCCTTCAGCCTGTTAGTGGGAACTGTGTTCTTTCCCCTGAGGGGTTGTTCATGAGGACCTCCGCCTGCTCTTGGAGACCCACCTGCCGTCCAAAAAGAAGAAAGTACTCTTGGGAGTTGGGGATCCCAAGATTGGTGCCGCAATACAGGAGGAGTTAGGGTACAACTGCCAGACTGGAGGAGTCATAGCTGAGATCCTGCGAGGTGAGACCATCATCTGTTATATTCCTGTTATCCTGGACATTTTGGGGGAGGAGGTTCTGGAAACTTGGTTGCTTGTTGTGATTTCTGGGAAGGCCTTCAGGCTGGGCTGGTGCCCGTGGGTGCGGGAGCTAGCTCAGAGCCCCTTGTTGCTCACCGTCTTGCCCTCTTCTTAGGAGTTCGTCTGCACTTCCACAATCTGGTGAAGGGTCTGACCGATCTGTCAGCTTGTAAAGCACAGCTGGGGCTGGGACACAGCTATTCCCGTGCCAAAGTTAAGTTTAATGTGAACCGGGTGGACAATATGATCATCCAGTCCATTAGCCTCCTGGACCAGCTGGATAAGGACATCAATACCTTCTCTATGCGTGTCAGGTAAAGTGCAGGGGCCACCCATAATACTGGAGCCTTTGGTCTGTAGTTCAGTTAATTTTGAGTCTTGATGAGGACTGACCATCCTGTGGGTAGAACCATGTGGGCTGGGGCTGGGTGTAGGCCTCCTGGTGCTTACCACAGGCTGTGTTCTTACACTGACTGTATAGAAAGAGGAGGTAGAGTAAACCTACCCCATATACACCTCAGCTCAGGCCCTGTGCCTGGTCTGTATTGTGAATGGGGGAACATAGAATTGAGGAAGATTTGGATCTTTGTCCCATTTCCTCCAGGCAGAGTAGGTGTGGAGAAGGCAAGGCTGTAGCTCTATGGTTTTTGATGAAGCAGCTGGGCCAGGGAGTGACTGTGGCTCTTTGCAGGGAGTGGTACGGGTATCACTTTCCGGAGCTGGTGAAGATCATCAACGACAATGCCACATACTGCCGTCTTGCCCAGTTTATTGGAAACCGAAGGGAACTGAATGAGGACAAGCTGGAGAAGCTGGAGGAGCTGACAATGGATGGGGCCAAGGCTAAGGCTATTCTGGATGCCTCACGGTCCTCCATGGGTCAGTGCAGAGCCTGGCAACCTGCATAAGGTATGGGGCTCTAAATAGCTGGCCTCTTGCATTCACACTTGGTTTTTCCTAGGCATGGACATATCTGCCATTGACTTGATAAACATCGAGAGCTTCTCCAGTCGTGTGGTGTCTTTATCTGAATACCGCCAGAGCCTACACACTTACCTGCGCTCCAAGATGAGCCAAGTAGCCCCCAGCCTGTCAGCCCTAATTGGGGAAGCGGTGCGTCACAGGGGACTCAAAAATGGGAGAATAAGGACTGTTGCCATGTGCACCTGCACTGCTGTATTTCGTGACCCACCATGTCTTCCCTAGTTGTGCTTGATGGGGAGGTGGGGAGCAGGGCTGTCGTGCAACTGGGCAGGTCAGCAGTTCATTTCTCTGACTGCTTCCTTGACTCTCTCTCCAGGTAGGTGCACGTCTCATCGCACATGCTGGCAGCCTCACCAACCTGGCCAAGTATCCAGCATCCACAGTGCAGATCCTTGGGGCTGAAAAGGCCCTGTTCAGGTACCAGTGAGGGCACCTGCCCACAATCAGGTGCCACTTCTGGTGCCCACTGCTTGTTGGGGGATCACGGTGATGGCTGACCAGGGCTCCCTGACCTATACAGGCCTCTGCTATGGGGGTGATGGCCAGTCCTGGTGTCTGAGTGATTCCCAGGGCCCAGCAAAGGGACCAAGTTTCCAGGTCAGCGACATTGGATGCCTTCCCTCTGCCTCTGGGAGCTATGGGTTGGCATGCATTGGGGTAGAGATCCAATCTGGCCTGAGGCTCACTCAGGACTTCGGGGTGAGAGGAGGGGAGGAGCTGAGCTGCCTTGGCTAATGGGGTTGAAATTTCTGATCTTAAACTCTCCACTGAATATTCTCTCAGAGCCCTGAAGACAAGGGGTAACACTCCAAAATATGGACTCATTTTCCACTCCACCTTCATTGGCCGAGCAGCTGCCAAGAACAAAGGCCGCATCTCCCGATACCTGGCAAACAAATGCAGTATTGCCTCACGAATCGATTGCTTCTCTGGTATGGGTGGGGGGGCGTTGGCAGGTGTGAGAAGGGGCTGGGTGGCTGGGTGGGGAGGCTTGCAACCATAGCTTCCACAATGATGGCAATATTTTTCGTCAACAGCAGTTCACCTAGTGAGTGTTGAGACTCTGGGTCTGAGTGAAGCTGAGGGTAGAGGGAACACAGGGTTGGGGTAGTTTCTCTCTTTGGGCTGACAGGCTTTGTCACCCACACACATCCAGAGGTGCCCACGAGTGTATTCGGGGAGAAGCTTCGAGAACAAGTTGAAGAGCGACTGTCCTTCTATGAGACTGGAGAGATACCACGAAAGAATCTGGATGTCATGAAGGAAGCAATGGTTCAGGTCAGTTGGGCTTTGCTGGGTGTGGAGTGGCATAGCTAGCTGTTGGAGGTGATGAACTGTCTGAGCCTGACCTTGTAGAATGGAGGCAAAAAAACTGATTTAATGAGCCTGATCCAATAAAGCCAGAAAGGAGTCCTCAGAGCACCAGAAGTCTTCAGGCCCTTTTAGCACTTTTCTTTGACCAGGCAGAGGAAGCGGCTGCTGAGATTACTAGGAAGCTGGAGAAACAGGAGAAGAAACGCTTAAAGAAGGAAAAGAAACGGCTGGCTGCACTTGCCCTCGCGTCTTCAGAAAACAGCAGTAGTACTCCAGAGGAGTGTGAGGTCAGTAGGCAGCACGGCCCTGGCAGAGATCCTAGGTTGTAGGATTTTCAACAGCAGAACAAAGGATATGCTGCATCAAGCTGTGGTCTTGAGTCCAGGCTTTTGGACTGAAACAAGGACCTGAAACATCTAAAACTACCTCTTGATTCTATAGGAAGGAGATAGGTGCTGAACTTGCTCAAGAGCCCAGAGAGCTGGTTGTAGCTCACACCCGTTCCCTGGGCATGTGTGTTCTGTCCTCGGCTGCCTCCCAGGAGTCCTCAACCTGGGGTAGTGTAAATTCCTGCTCTGCTTATTATCAGACGTGTGTCCGGAGGTGGTCGTGTTTCACAGTGGGGATGGGGGCAGGGAGGTCCCCAATGTGCTAAGCTACAATCATTCTCCCTGAGATTTTCATTTAGCACCCAGTTTCTTAAACAGTGTTTCAGGGCCCTGTCTGGAACTTGGCATGATGGTTCTGTTGCGACCAGCATGGTGGGTGTTTTTTAGGTTTTTTTTTTTAATGGGCTGAGGTAATTTCTCATGACATGTTTTCCTTCTAATTTGGGACAGCCTTTGGGGTGGATTTCTAAAGTTATACCCACACAATTAAACTATCCCAGAAACACTGGGCAATGTTAACGACACGCGTTCCCCTGCCTTGGCTACTTAATTGCTGAAGATGTAATGAGCACTGTTCTCACAGCCTGTTCCCCTGTCCTTCCCTTTAGGAGATGAGTGAAAAACCCAAAAAGAAGAAAAAGCAAAAGCCCCAGGAGGTTCCTCAGGAGAATGGAATGGAAGACCCATCTATCTCTTTCTCCAAACCCAAGAAAAAGAAATCTTTTTCCAAGGAGGAGTTGATGAGTAGCGATCTTGAAGAGACCGCTGGCAGCACCAGTATTCCCAAGAGGAAGAAGTCTACACCCAAGGAGGAAACAGTTAATGACCCTGAGGAGGCAGGCCACAGAAGTGGCTCCAAGAAAAAGAGGAAATTCTCCAAAGAGGAGCCGGTCAGCAGTGGGCCTGAAGAGGCGGTTGGCAAGAGCAGCTCCAAGAAGAAGAAAAAGTTCCATAAAGCATCCCAGGAAGATTAGAATGCAAATGGACATTCTCTGGGAGGTGGGGCATACCATAGCCCAAGGTGACATTTCCCACCCTGTGCCGTGTTCCCCAATAAAAACAAATTCACAAGAGTTGGTTCATGTTCTTTATTGAACACCTTACATGGGTATGGACAGGGCCTATGGGTGGGGCAAGGCAGCAATGACAGCCTCAGTGAAGTCATGGCAAGTAGCATAGCCACCCATGTCAGAGGTTCGAACCTGTGGGGGAGAATCATCATCATCCATGTGGCCTGGGCTCCATCCTAACAATCCCCATCACCACCCAACAGTCTGTCCCCTAAGGAAGCCGGCCCAAGGACAACCTAGGCTCTACCCAGCAAGGTGACCATGGTCCACTGCTTAGAGGCACAAGGTCTCTTCCCTGGTACACTGCACTGAAGGGTATGGGGAGTGTGGTCCTTGCAAGGTTGGAAGAAATAAAGGGCTCTAGCTCCCTTTAGTCTGCAGGTGACCGATGACAGACTTGATGAAGTCGGTTGTGGTGCTGTAGCCGCCCATGTCTCGAGTCCGCACCTACAGCCACCACCGGCAACAGCCGTGGGGAGGGAGAAAAGAGAGCCCATGAAGGGAGGTAGGGCAATGTGATTGAGGAAATGGAAGCCAAGAATGCGTGACAGCCAGAAAAAAGGCAATGCACAGGAATGGAAGGAGGAGCCAGGATGGGAAGCACATGGACCTGCCACTCCTCTTAAGCCACTATTAGCTGTGCTGCAGCCAGGGCAGGACAGGAGGCTGAGCAGGCAAAGATGATGGGAAACGCAGATCAGAGGCAGGATGTGGCTACCTTCCTTGGAAGAAATAGAGACAAGACCAGGTGGAAGGAAAGAATCACAGCGAAAAGGAGATGGGGCGTGAAGGTGAAGCTGATGCTTCAGCCTGCCTGTATCCCTTGCTGTTCCACCCCCAAGGAGAGCTGCAAGTTCTGCATTCAGATGGCCCATGAAAAGGGCAGTGGATGGAGCAGGAAAGAGGGAACAGCAGATGGGATCTAAGAGGCAAAAGAGATCAAGAGGATGAAACAGCCAAGAGAAGGGAGATGAAGAACAGCCCTGAGAGGGATGCAGGGATGTCAGGGAGCAGATGTTCTGGGGACCTGGGGGGAAAGGAGACCCCCATTCAGGTTCCCCAGAGGGTAGTGCCGAGGTGCTGACACCAGAACTACTCTAAATCCTGAAGCCAGCACTACTCTTCTCAACTCACCTTGCCAACTTTGATCACCTTCTTCACCGCATCTGCGATCATGCTGGAGTGATACTCAAGACTGTGGATATGGACAGGAAGAAACTGTGACTCCCCCAAGACACCTCCCGCTAATTTCCCCACCTGCTCCTCCTCACGACACCCAACCTCTGCCGACAGCCTCCCATGACCTACTTAAGATGCCGCAGCATGTTGGAAGCCGACAGCAGCATGGCCGTGGGATTGGCTATATTCCTGCCCACTGCCTGGGCAAATGGGTGCCGGGCACCCTGTGGAGAGAGGGGCAGGCTAGACACTGGGAGGAGGCAGGAGGGGTATGCAGAGGCTTAGGTTGGAAAAGGACATTATGGGAGGGGGAGCTCAGGCCAGGGTCACTGAAAAGAGGCATGGTGGGCAGCGTGGGGGAAGAACAGGCCAAGATCACTTAGGAAGTGGAGATATTGGGATGGGAGAGGAATGGCGGACTTGAGGTCAGAGGAAGGGCCGAGGGAGAAAGCAGCCTCACCGTCTCAAAGACTGCGTATTCTGCACTATAGCTCTCACCAGGGACCACACCAGCTCCCCCAACCAGGCCAGCAGCCAGATTGTCAATAATGTTCCCATAGAGATTGGGCATCACAAGCACATCAAACTGGTAAGGATTCTGCACCAGCTAGAGGGTGAGATGCAGGCATGAAGTAAATTCCACTCCCCACCCTCCTCCTCCGCCCCATGAGTAGAGATGTGGGGAGGCCTCACCTGCATGCAGCAGTTGTCTATGATCATTGTCTCAAATTTGATTTTGGGGTACAGTTCAGCAACTTCCTCACAGCACTGCAGGAACAACCCATCCCCAAGTTTCCTGTCCATGGGCCAAAGGGGACAGAATCAGCCAAGAAAGTACAGGGGCTACCTTCCCAGGAACCCATCCTACACAAAGCCATGCCCCTCACATGATGTTGGCCTTGTGGACAGCAGTGACCTTGCCCCGCCCCTTCTTGGTGGCATAGTCAAAGGCGAACTTT'"
      ]
     },
     "execution_count": 50,
     "metadata": {},
     "output_type": "execute_result"
    }
   ],
   "source": [
    "max_num_nucleotides = 1668\n",
    "\n",
    "idx_start = 2650520\n",
    "\n",
    "idx_stop = idx_start + max_num_nucleotides*6\n",
    "\n",
    "sequences = [chr20[idx_start:idx_stop]]\n",
    "\n",
    "chr20[idx_start:idx_stop]"
   ]
  },
  {
   "cell_type": "markdown",
   "metadata": {},
   "source": [
    "# Try messing up with ATAC-seq dataset"
   ]
  },
  {
   "cell_type": "code",
   "execution_count": null,
   "metadata": {},
   "outputs": [],
   "source": []
  },
  {
   "cell_type": "code",
   "execution_count": null,
   "metadata": {},
   "outputs": [],
   "source": []
  }
 ],
 "metadata": {
  "kernelspec": {
   "display_name": "Python 3 (ipykernel)",
   "language": "python",
   "name": "python3"
  }
 },
 "nbformat": 4,
 "nbformat_minor": 2
}
