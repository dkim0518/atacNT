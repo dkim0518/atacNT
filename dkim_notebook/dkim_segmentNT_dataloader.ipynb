{
 "cells": [
  {
   "cell_type": "markdown",
   "metadata": {},
   "source": [
    "# Try the example code snippet from the Readme"
   ]
  },
  {
   "cell_type": "code",
   "execution_count": 1,
   "metadata": {},
   "outputs": [
    {
     "ename": "RuntimeError",
     "evalue": "Unable to initialize backend 'tpu': UNKNOWN: TPU initialization failed: open(/dev/accel3): Operation not permitted: Operation not permitted; Couldn't open device: /dev/accel3; [/dev/accel3]  (set JAX_PLATFORMS='' to automatically choose an available backend)",
     "output_type": "error",
     "traceback": [
      "\u001b[0;31m---------------------------------------------------------------------------\u001b[0m",
      "\u001b[0;31mXlaRuntimeError\u001b[0m                           Traceback (most recent call last)",
      "File \u001b[0;32m/opt/conda/envs/trix/lib/python3.10/site-packages/jax/_src/xla_bridge.py:593\u001b[0m, in \u001b[0;36mbackends\u001b[0;34m()\u001b[0m\n\u001b[1;32m    592\u001b[0m \u001b[38;5;28;01mtry\u001b[39;00m:\n\u001b[0;32m--> 593\u001b[0m   backend \u001b[38;5;241m=\u001b[39m \u001b[43m_init_backend\u001b[49m\u001b[43m(\u001b[49m\u001b[43mplatform\u001b[49m\u001b[43m)\u001b[49m\n\u001b[1;32m    594\u001b[0m   _backends[platform] \u001b[38;5;241m=\u001b[39m backend\n",
      "File \u001b[0;32m/opt/conda/envs/trix/lib/python3.10/site-packages/jax/_src/xla_bridge.py:647\u001b[0m, in \u001b[0;36m_init_backend\u001b[0;34m(platform)\u001b[0m\n\u001b[1;32m    646\u001b[0m logger\u001b[38;5;241m.\u001b[39mdebug(\u001b[38;5;124m\"\u001b[39m\u001b[38;5;124mInitializing backend \u001b[39m\u001b[38;5;124m'\u001b[39m\u001b[38;5;132;01m%s\u001b[39;00m\u001b[38;5;124m'\u001b[39m\u001b[38;5;124m\"\u001b[39m, platform)\n\u001b[0;32m--> 647\u001b[0m backend \u001b[38;5;241m=\u001b[39m \u001b[43mregistration\u001b[49m\u001b[38;5;241;43m.\u001b[39;49m\u001b[43mfactory\u001b[49m\u001b[43m(\u001b[49m\u001b[43m)\u001b[49m\n\u001b[1;32m    648\u001b[0m \u001b[38;5;66;03m# TODO(skye): consider raising more descriptive errors directly from backend\u001b[39;00m\n\u001b[1;32m    649\u001b[0m \u001b[38;5;66;03m# factories instead of returning None.\u001b[39;00m\n",
      "File \u001b[0;32m/opt/conda/envs/trix/lib/python3.10/site-packages/jax/_src/xla_bridge.py:200\u001b[0m, in \u001b[0;36mtpu_client_timer_callback\u001b[0;34m(timer_secs)\u001b[0m\n\u001b[1;32m    199\u001b[0m \u001b[38;5;28;01mtry\u001b[39;00m:\n\u001b[0;32m--> 200\u001b[0m   client \u001b[38;5;241m=\u001b[39m \u001b[43mxla_client\u001b[49m\u001b[38;5;241;43m.\u001b[39;49m\u001b[43mmake_tpu_client\u001b[49m\u001b[43m(\u001b[49m\u001b[43m)\u001b[49m\n\u001b[1;32m    201\u001b[0m \u001b[38;5;28;01mfinally\u001b[39;00m:\n",
      "File \u001b[0;32m/opt/conda/envs/trix/lib/python3.10/site-packages/jaxlib/xla_client.py:169\u001b[0m, in \u001b[0;36mmake_tpu_client\u001b[0;34m(use_pjrt_c_api)\u001b[0m\n\u001b[1;32m    168\u001b[0m     load_pjrt_plugin_dynamically(\u001b[38;5;124m'\u001b[39m\u001b[38;5;124mtpu\u001b[39m\u001b[38;5;124m'\u001b[39m, library_path)\n\u001b[0;32m--> 169\u001b[0m   \u001b[38;5;28;01mreturn\u001b[39;00m \u001b[43mmake_tfrt_tpu_c_api_client\u001b[49m\u001b[43m(\u001b[49m\u001b[43m)\u001b[49m\n\u001b[1;32m    171\u001b[0m max_inflight_computations \u001b[38;5;241m=\u001b[39m os\u001b[38;5;241m.\u001b[39mgetenv(\n\u001b[1;32m    172\u001b[0m     \u001b[38;5;124m'\u001b[39m\u001b[38;5;124mJAX_TPU_MAX_INFLIGHT_COMPUTATIONS\u001b[39m\u001b[38;5;124m'\u001b[39m, \u001b[38;5;124m'\u001b[39m\u001b[38;5;124m32\u001b[39m\u001b[38;5;124m'\u001b[39m)\n",
      "File \u001b[0;32m/opt/conda/envs/trix/lib/python3.10/site-packages/jaxlib/xla_client.py:107\u001b[0m, in \u001b[0;36mmake_tfrt_tpu_c_api_client\u001b[0;34m(options)\u001b[0m\n\u001b[1;32m    106\u001b[0m   options \u001b[38;5;241m=\u001b[39m {}\n\u001b[0;32m--> 107\u001b[0m \u001b[38;5;28;01mreturn\u001b[39;00m \u001b[43m_xla\u001b[49m\u001b[38;5;241;43m.\u001b[39;49m\u001b[43mget_c_api_client\u001b[49m\u001b[43m(\u001b[49m\u001b[38;5;124;43m'\u001b[39;49m\u001b[38;5;124;43mtpu\u001b[39;49m\u001b[38;5;124;43m'\u001b[39;49m\u001b[43m,\u001b[49m\u001b[43m \u001b[49m\u001b[43moptions\u001b[49m\u001b[43m)\u001b[49m\n",
      "\u001b[0;31mXlaRuntimeError\u001b[0m: UNKNOWN: TPU initialization failed: open(/dev/accel3): Operation not permitted: Operation not permitted; Couldn't open device: /dev/accel3; [/dev/accel3] ",
      "\nDuring handling of the above exception, another exception occurred:\n",
      "\u001b[0;31mRuntimeError\u001b[0m                              Traceback (most recent call last)",
      "Cell \u001b[0;32mIn[1], line 11\u001b[0m\n\u001b[1;32m      8\u001b[0m jax\u001b[38;5;241m.\u001b[39mconfig\u001b[38;5;241m.\u001b[39mupdate(\u001b[38;5;124m\"\u001b[39m\u001b[38;5;124mjax_platform_name\u001b[39m\u001b[38;5;124m\"\u001b[39m, \u001b[38;5;124m\"\u001b[39m\u001b[38;5;124mcpu\u001b[39m\u001b[38;5;124m\"\u001b[39m)\n\u001b[1;32m     10\u001b[0m backend \u001b[38;5;241m=\u001b[39m \u001b[38;5;124m\"\u001b[39m\u001b[38;5;124mtpu\u001b[39m\u001b[38;5;124m\"\u001b[39m\n\u001b[0;32m---> 11\u001b[0m devices \u001b[38;5;241m=\u001b[39m \u001b[43mjax\u001b[49m\u001b[38;5;241;43m.\u001b[39;49m\u001b[43mdevices\u001b[49m\u001b[43m(\u001b[49m\u001b[43mbackend\u001b[49m\u001b[43m)\u001b[49m\n\u001b[1;32m     12\u001b[0m num_devices \u001b[38;5;241m=\u001b[39m \u001b[38;5;28mlen\u001b[39m(devices)\n\u001b[1;32m     13\u001b[0m \u001b[38;5;28mprint\u001b[39m(\u001b[38;5;124mf\u001b[39m\u001b[38;5;124m\"\u001b[39m\u001b[38;5;124mDevices found: \u001b[39m\u001b[38;5;132;01m{\u001b[39;00mdevices\u001b[38;5;132;01m}\u001b[39;00m\u001b[38;5;124m\"\u001b[39m)\n",
      "File \u001b[0;32m/opt/conda/envs/trix/lib/python3.10/site-packages/jax/_src/xla_bridge.py:758\u001b[0m, in \u001b[0;36mdevices\u001b[0;34m(backend)\u001b[0m\n\u001b[1;32m    733\u001b[0m \u001b[38;5;28;01mdef\u001b[39;00m \u001b[38;5;21mdevices\u001b[39m(\n\u001b[1;32m    734\u001b[0m     backend: Optional[Union[\u001b[38;5;28mstr\u001b[39m, xla_client\u001b[38;5;241m.\u001b[39mClient]] \u001b[38;5;241m=\u001b[39m \u001b[38;5;28;01mNone\u001b[39;00m\n\u001b[1;32m    735\u001b[0m ) \u001b[38;5;241m-\u001b[39m\u001b[38;5;241m>\u001b[39m List[xla_client\u001b[38;5;241m.\u001b[39mDevice]:\n\u001b[1;32m    736\u001b[0m \u001b[38;5;250m  \u001b[39m\u001b[38;5;124;03m\"\"\"Returns a list of all devices for a given backend.\u001b[39;00m\n\u001b[1;32m    737\u001b[0m \n\u001b[1;32m    738\u001b[0m \u001b[38;5;124;03m  .. currentmodule:: jaxlib.xla_extension\u001b[39;00m\n\u001b[0;32m   (...)\u001b[0m\n\u001b[1;32m    756\u001b[0m \u001b[38;5;124;03m    List of Device subclasses.\u001b[39;00m\n\u001b[1;32m    757\u001b[0m \u001b[38;5;124;03m  \"\"\"\u001b[39;00m\n\u001b[0;32m--> 758\u001b[0m   \u001b[38;5;28;01mreturn\u001b[39;00m \u001b[43mget_backend\u001b[49m\u001b[43m(\u001b[49m\u001b[43mbackend\u001b[49m\u001b[43m)\u001b[49m\u001b[38;5;241m.\u001b[39mdevices()\n",
      "File \u001b[0;32m/opt/conda/envs/trix/lib/python3.10/site-packages/jax/_src/xla_bridge.py:692\u001b[0m, in \u001b[0;36mget_backend\u001b[0;34m(platform)\u001b[0m\n\u001b[1;32m    688\u001b[0m \u001b[38;5;129m@lru_cache\u001b[39m(maxsize\u001b[38;5;241m=\u001b[39m\u001b[38;5;28;01mNone\u001b[39;00m)  \u001b[38;5;66;03m# don't use util.memoize because there is no X64 dependence.\u001b[39;00m\n\u001b[1;32m    689\u001b[0m \u001b[38;5;28;01mdef\u001b[39;00m \u001b[38;5;21mget_backend\u001b[39m(\n\u001b[1;32m    690\u001b[0m     platform: Union[\u001b[38;5;28;01mNone\u001b[39;00m, \u001b[38;5;28mstr\u001b[39m, xla_client\u001b[38;5;241m.\u001b[39mClient] \u001b[38;5;241m=\u001b[39m \u001b[38;5;28;01mNone\u001b[39;00m\n\u001b[1;32m    691\u001b[0m ) \u001b[38;5;241m-\u001b[39m\u001b[38;5;241m>\u001b[39m xla_client\u001b[38;5;241m.\u001b[39mClient:\n\u001b[0;32m--> 692\u001b[0m   \u001b[38;5;28;01mreturn\u001b[39;00m \u001b[43m_get_backend_uncached\u001b[49m\u001b[43m(\u001b[49m\u001b[43mplatform\u001b[49m\u001b[43m)\u001b[49m\n",
      "File \u001b[0;32m/opt/conda/envs/trix/lib/python3.10/site-packages/jax/_src/xla_bridge.py:673\u001b[0m, in \u001b[0;36m_get_backend_uncached\u001b[0;34m(platform)\u001b[0m\n\u001b[1;32m    668\u001b[0m   \u001b[38;5;28;01mreturn\u001b[39;00m platform\n\u001b[1;32m    670\u001b[0m platform \u001b[38;5;241m=\u001b[39m (platform \u001b[38;5;129;01mor\u001b[39;00m FLAGS\u001b[38;5;241m.\u001b[39mjax_xla_backend \u001b[38;5;129;01mor\u001b[39;00m FLAGS\u001b[38;5;241m.\u001b[39mjax_platform_name\n\u001b[1;32m    671\u001b[0m             \u001b[38;5;129;01mor\u001b[39;00m \u001b[38;5;28;01mNone\u001b[39;00m)\n\u001b[0;32m--> 673\u001b[0m bs \u001b[38;5;241m=\u001b[39m \u001b[43mbackends\u001b[49m\u001b[43m(\u001b[49m\u001b[43m)\u001b[49m\n\u001b[1;32m    674\u001b[0m \u001b[38;5;28;01mif\u001b[39;00m platform \u001b[38;5;129;01mis\u001b[39;00m \u001b[38;5;129;01mnot\u001b[39;00m \u001b[38;5;28;01mNone\u001b[39;00m:\n\u001b[1;32m    675\u001b[0m   platform \u001b[38;5;241m=\u001b[39m canonicalize_platform(platform)\n",
      "File \u001b[0;32m/opt/conda/envs/trix/lib/python3.10/site-packages/jax/_src/xla_bridge.py:609\u001b[0m, in \u001b[0;36mbackends\u001b[0;34m()\u001b[0m\n\u001b[1;32m    607\u001b[0m       \u001b[38;5;28;01melse\u001b[39;00m:\n\u001b[1;32m    608\u001b[0m         err_msg \u001b[38;5;241m+\u001b[39m\u001b[38;5;241m=\u001b[39m \u001b[38;5;124m\"\u001b[39m\u001b[38;5;124m (you may need to uninstall the failing plugin package, or set JAX_PLATFORMS=cpu to skip this backend.)\u001b[39m\u001b[38;5;124m\"\u001b[39m\n\u001b[0;32m--> 609\u001b[0m       \u001b[38;5;28;01mraise\u001b[39;00m \u001b[38;5;167;01mRuntimeError\u001b[39;00m(err_msg)\n\u001b[1;32m    611\u001b[0m \u001b[38;5;28;01massert\u001b[39;00m _default_backend \u001b[38;5;129;01mis\u001b[39;00m \u001b[38;5;129;01mnot\u001b[39;00m \u001b[38;5;28;01mNone\u001b[39;00m\n\u001b[1;32m    612\u001b[0m \u001b[38;5;66;03m# We don't warn about falling back to CPU on Mac OS, because we don't\u001b[39;00m\n\u001b[1;32m    613\u001b[0m \u001b[38;5;66;03m# support anything else there at the moment and warning would be pointless.\u001b[39;00m\n",
      "\u001b[0;31mRuntimeError\u001b[0m: Unable to initialize backend 'tpu': UNKNOWN: TPU initialization failed: open(/dev/accel3): Operation not permitted: Operation not permitted; Couldn't open device: /dev/accel3; [/dev/accel3]  (set JAX_PLATFORMS='' to automatically choose an available backend)"
     ]
    }
   ],
   "source": [
    "import haiku as hk\n",
    "import jax\n",
    "import jax.numpy as jnp\n",
    "from nucleotide_transformer.pretrained import get_pretrained_segment_nt_model\n",
    "\n",
    "# Initialize CPU as default JAX device. This makes the code robust to memory leakage on\n",
    "# the devices.\n",
    "jax.config.update(\"jax_platform_name\", \"cpu\")\n",
    "\n",
    "backend = \"tpu\"\n",
    "devices = jax.devices(backend)\n",
    "num_devices = len(devices)\n",
    "print(f\"Devices found: {devices}\")\n",
    "\n",
    "# The number of DNA tokens (excluding the CLS token prepended) needs to be dividible by\n",
    "# 2 to the power of the number of downsampling block, i.e 4.\n",
    "max_num_nucleotides = 8\n",
    "\n",
    "assert max_num_nucleotides % 4 == 0, (\n",
    "    \"The number of DNA tokens (excluding the CLS token prepended) needs to be dividible by\"\n",
    "     \"2 to the power of the number of downsampling block, i.e 4.\")\n",
    "\n",
    "parameters, forward_fn, tokenizer, config = get_pretrained_segment_nt_model(\n",
    "    model_name=\"segment_nt\",\n",
    "    embeddings_layers_to_save=(29,),\n",
    "    attention_maps_to_save=((1, 4), (7, 10)),\n",
    "    max_positions=max_num_nucleotides + 1,\n",
    "    # If the progress bar gets stuck at the start of the model wieghts download, \n",
    "    # you can set verbose=False to download without the progress bar.\n",
    "    verbose=True\n",
    ")\n",
    "forward_fn = hk.transform(forward_fn)\n",
    "apply_fn = jax.pmap(forward_fn.apply, devices=devices, donate_argnums=(0,))\n",
    "\n",
    "random_key = jax.random.PRNGKey(seed=0)\n",
    "keys = jax.device_put_replicated(random_key, devices=devices)\n",
    "parameters = jax.device_put_replicated(parameters, devices=devices)\n",
    "\n",
    "# Get data and tokenize it\n",
    "sequences = [\"ATTCCGATTCCGATTCCAACGGATTATTCCGATTAACCGATTCCAATT\", \"ATTTCTCTCTCTCTCTGAGATCGATGATTTCTCTCTCATCGAACTATG\"]\n",
    "tokens_ids = [b[1] for b in tokenizer.batch_tokenize(sequences)]\n",
    "tokens_str = [b[0] for b in tokenizer.batch_tokenize(sequences)]\n",
    "tokens = jnp.stack([jnp.asarray(tokens_ids, dtype=jnp.int32)]*num_devices, axis=0)\n",
    "# tokens = jnp.asarray(tokens_ids, dtype=jnp.int32)\n",
    "\n",
    "# Infer on the sequence\n",
    "outs = apply_fn(parameters, keys, tokens)\n",
    "# Obtain the logits over the genomic features\n",
    "logits = outs[\"logits\"]\n",
    "# Transform them in probabilities\n",
    "probabilities = jnp.asarray(jax.nn.softmax(logits, axis=-1))[...,-1]\n",
    "print(f\"Probabilities shape: {probabilities.shape}\")\n",
    "\n",
    "print(f\"Features inferred: {config.features}\")\n",
    "\n",
    "# Get probabilities associated with intron\n",
    "idx_intron = config.features.index(\"intron\")\n",
    "probabilities_intron = probabilities[..., idx_intron]\n",
    "print(f\"Intron probabilities shape: {probabilities_intron.shape}\")"
   ]
  },
  {
   "cell_type": "markdown",
   "metadata": {},
   "source": [
    "# Try messing up with the dataloader of SegmentNT"
   ]
  },
  {
   "cell_type": "code",
   "execution_count": 6,
   "metadata": {},
   "outputs": [],
   "source": [
    "from Bio import SeqIO\n",
    "import gzip\n",
    "\n",
    "fasta_path = \"data/Homo_sapiens.GRCh38.dna.chromosome.20.fa.gz\"\n",
    "\n",
    "with gzip.open(fasta_path, \"rt\") as handle:\n",
    "    record = next(SeqIO.parse(handle, \"fasta\"))\n",
    "    chr20 = str(record.seq)"
   ]
  },
  {
   "cell_type": "code",
   "execution_count": 7,
   "metadata": {},
   "outputs": [
    {
     "data": {
      "text/plain": [
       "'TGAGAAAACCGAAGGAAACCTTTTAATGTTCATACCACATCCATATCTGATCACAAGCATTGGTTATCTCACCAGCAGAAGCACTTTTCTTCAGCCATCTCTGTAAGTCAGCAAACTACTTCATGACAGCTCCTTTGTAACCAGAGGACCCAAATTTTTCCAGAGTACGACTGGTTACCTTTTGGCTCATTGATTGACCCTCAGGTTTTTTATATTCTGATTTAACACACAAAAGTGTGTTCATATAGTTACATATATATGTATATATGAAAAATATTTGTGTACATATTTCTATATATGTATGTAGAGCTGAGACAAAAGTTTTACAATGAACAGCACCTTACTCTAAGCAACACACTCTTATTTCTATTCGCTTTAATCCTTTTTCTTTTTTTTTTTTTTTTTTTTTTTTTTGACAGAGCCTTGCTCTGTTGCCCAGGCTAGAGTGCAGCCTCTGCCTCCCGGGTTCAAGCGATTCTCCTTCCTCAGCCTCCCGAGTAGCTGGGATTACAGACATGCTCCACCACGTCCAGCTAATTTTTTTATTTTTTGGTAGAGACGGGGTTTCACCATGTTGGCCAGGCTGGTCTCGAACTCCTGATCTTAAGTGATCCGCCTGCCTCGGCCTCCTAAAGTGCTGGATTATAGCCCACCCAATCCTATTTTTTTAAATGCTGTCCATTAATGCATTCTGACTTCTTGCTTGAAAACCCCTGGTTTAGTGGATAAGCACCTGTAACTCCAGGAAGATTCAGGATTAAGGGCAGAAATAATGAAGTAAATTGAAGTATTAGCATTAGTATTTTCCATTACATTTTGGAATCGTCTATTTTGATGTATTCACGACGGTTAAAATAATTTAACATGCTAATGTATGGATTAACTTGGCAATTCCATTTTAAAATATTAAATGGAATAACGATTCTGACTCGTAAGTAGACATGTGTAACAGAATTCAACCACATCTGTAAACCATATTGAAATTATGAGAGTAAGATTTACCAACCACATTTAGGTTTGACATATTAGATTTGTGAGTGAACTATGTACTTGGATTTTGTCAAGTAACTCAATCGCTTAACAAAATAACAATTAAATGTATAAATGCAGTTTATAGCTATACATTATTTTTAAAAATCCCCTTCGAATGACTCTTTAAAACATACCAGGGGATACGCTACTTAAGTATAACTAGGTTTTGGATTTATAACGTTAATATTAATTATTAAAGCAAAACTCATTTCTAAAGAGTCGCCTGAGTGCCCAAAAGACGCCCTCAAGGACAGGGAAGCAGCTGCGATTCACTCAGCGATCACCAGCGCCCAGAATTCAGGGCCGCCCAAGCGGAGGAGCAACACGTGGCCCAGCAAAAGGAGCTGGGTCCCGTGCAGCACAGCAACAAGAAACTGGCCTAGGAAGACGCTGGAGCGTCTTTCTTTCGCACGTTACTGCCTGCTACAGTCATTTAAAAAAAAAAAACCAAAAACAAAAAAAAGAAATAAATTAATAGTACGAAGAAAACTGCGCGAGCTACATTCCCAGCAGGGTCTGCGCCAGAGCGCGCCAGGCACCGCTCCCGTTACGGGTGGGAGGAAAGGATGCACCGCCCACCCGGCGCCGGGGAGGCTCGTCCCCGAGTAGGGGACGGGAACGCCTGGGTCCCGGGGACGTGGGGCGCAGGGTCTGGGGCCCGAGGCCACGGACGAAGCGGGAAGCCGGCTAGGCAGCGGTCTCTGTCTGGGATGGACGCCGCGCCCCACGCGGACCTCCCGCCCCGACTTCACCCAGCTCTGCTGCCCGTAACTCATATGACAAGAACATCAGGAACCGGACTATTACCCCGAAAGGGCCTTCCCAAGTCGTTTCGCCGCCTGCAGTGCCCGACCGGGGGCCGCGCGTCCCCGGCAACCACGCCCGCCCGCGCAGCTGCAGAGGCCGGAAAAGGCCCGCTCGCCCGCGCTCGGCACCACCCAGCCCGCGCTCCGGGCGATACCACCCTGGGCGGCCCCTCCAAAGGCCGGAGATGGTGTCGTCCCCGGCCTCCGATTGGTCGGGGGGGCGGGGGCGTGGCCTCTGGAGCCTGGTTCCGCGCGCCGGAGCGCGCTAGCCGCATTGCGAGCCGAACCCGGGAGCTGGCGCCATGGTGAGGAGTGGTTGCGGGGCGCGGGCGACGCGACGGTGGGGGTTTCGGCCTGCGTTCGGGCCGCAGACAGGGCCTGGGCCTGGGCCTGGGCCTGCGCCTGCGCCTGCGCCTGCCCTGGGAACGGGTTCCGGCAGACGCTGAGGTTGCGTTGACGCTCGCGCCCCGGCTCCCGTTCCAGGTGCTGTTGCACGTGCTGTTTGAGCACGCGGTCGGCTACGCGCTGCTGGCGCTGAAGGAAGTGGAGGAGATCAGTCTGCTGCAGCCGCAGGTGGGTGAGATCCGTGGGCTCCTTTGGCGGCCCCGCAGACCCTCATCGCGCGGGTCCCAGCATGCACAGCGCGCTCCCACGTGGCCGGCCGAGCGGTTCGGGGCGGGGGGACGGGCCTGGAAAGCTCTAGATCCGGGGGTCTTTACCTTGACCCATGGGTAGAATCGCTCTAGCAATTAGAAATAAGCCTCCCGGACGCCGCCCCCGAACGATTAAAGCAGAAGCTGGGATGTGGGGCCCAGGTATCAGCATATTTTAAGAGCTTCCAAGGCTGAGAACCGCTGCTTGACTGCGCCGCAGAGGCAGGAGGGAGGGAAGGAAACCACTTAGCCTCTTTCTCCCCCCAGGTGGAGGAGTCTGTGCTCAACCTGGGCAAATTCCACAGCATCGTTCGTCTGGTGGCCTTTTGTCCCTTTGCCTCATCCCAGGTTGCCTTGGAAAATGCCAACGCCGTGTCTGAAGGTAAGTCGGCCACCGCCAAGTGTCACAGAGAGATGTGGTTCCTTTCGGTATCCTCTCGGGCAGCTTGTGATAGTATTTGCCGTCCTTGGCTGGCTCTGAGTCTGATAGGCGTGAGGCAGTATTTGAGCCATACAATGTGTAATTTGAAATAATTGTCTTCACAGAGCTCAAGGTCTGGGAACTGTGCTAGACCAAACTGTTTAAGCAGACGATGTGGAATGTGTGTTAACGTTTCCTTGTGGGCACTGTAGTGACAAACTATTTTTTATTTTTATTTTTTTTGAGATGGAGTCTGTCCCCCAGGCTGGAGTGCAGTGGCAAGATCTGGGCTCACTGCAACCTCTGCCTCCCTGGTTCAGGCGATTCTCCTGCCTCAGCCTCCCGAGTAACTGGGATTACAGGCCTGTGCCAGCCACCACACCCGGCTAATTTTGTATTTTTGGTAGAGACGGGGTTTCACCATGTTGGCCAGGCTAGTCTCCATCTCCTGACCTCGTGATCCGCCCGCCTCGACCTCCCAAGGTGCTGAGGTTGCAGGCGCGAGCGACGGTGCCCGGCCGACAAAGGGGGGTTTCTTAAAGGGGGTCGGCTTAACACCTACTTGTGCCTGAGGTTTTGCCTAAACACAATCAAGTGTCTGGTTCTCTGCTTTCTGTTCGATTGGAAAGGGCAGTTGGGTAAACACAGGCTGAGAAAAAAAGGTTTGGTTCCAGAAGGCAAATTCTACGAAATACTCGAGGGTGTGTTACAAGCTATTATTTATTGCCCACTTGTGCTATCAGACCTGAATGCAGTTGTTCCCATGGCTGGGCCAGGCTTTGCAGTGATGACTTGCGAATCAAATCTGTCAATCCCCTGAGTGCAATCACTGATGTCTCCATGTCTCTGAGCAATGCCTGATGGGGAGGGATCTAGGTATGCCATCCCAGCGTGCTCGGTGGGACCAGGGTAGTCAGCTGAGGGATGTTAGAGTTGATCGTCCTTCAGCCTGTTAGTGGGAACTGTGTTCTTTCCCCTGAGGGGTTGTTCATGAGGACCTCCGCCTGCTCTTGGAGACCCACCTGCCGTCCAAAAAGAAGAAAGTACTCTTGGGAGTTGGGGATCCCAAGATTGGTGCCGCAATACAGGAGGAGTTAGGGTACAACTGCCAGACTGGAGGAGTCATAGCTGAGATCCTGCGAGGTGAGACCATCATCTGTTATATTCCTGTTATCCTGGACATTTTGGGGGAGGAGGTTCTGGAAACTTGGTTGCTTGTTGTGATTTCTGGGAAGGCCTTCAGGCTGGGCTGGTGCCCGTGGGTGCGGGAGCTAGCTCAGAGCCCCTTGTTGCTCACCGTCTTGCCCTCTTCTTAGGAGTTCGTCTGCACTTCCACAATCTGGTGAAGGGTCTGACCGATCTGTCAGCTTGTAAAGCACAGCTGGGGCTGGGACACAGCTATTCCCGTGCCAAAGTTAAGTTTAATGTGAACCGGGTGGACAATATGATCATCCAGTCCATTAGCCTCCTGGACCAGCTGGATAAGGACATCAATACCTTCTCTATGCGTGTCAGGTAAAGTGCAGGGGCCACCCATAATACTGGAGCCTTTGGTCTGTAGTTCAGTTAATTTTGAGTCTTGATGAGGACTGACCATCCTGTGGGTAGAACCATGTGGGCTGGGGCTGGGTGTAGGCCTCCTGGTGCTTACCACAGGCTGTGTTCTTACACTGACTGTATAGAAAGAGGAGGTAGAGTAAACCTACCCCATATACACCTCAGCTCAGGCCCTGTGCCTGGTCTGTATTGTGAATGGGGGAACATAGAATTGAGGAAGATTTGGATCTTTGTCCCATTTCCTCCAGGCAGAGTAGGTGTGGAGAAGGCAAGGCTGTAGCTCTATGGTTTTTGATGAAGCAGCTGGGCCAGGGAGTGACTGTGGCTCTTTGCAGGGAGTGGTACGGGTATCACTTTCCGGAGCTGGTGAAGATCATCAACGACAATGCCACATACTGCCGTCTTGCCCAGTTTATTGGAAACCGAAGGGAACTGAATGAGGACAAGCTGGAGAAGCTGGAGGAGCTGACAATGGATGGGGCCAAGGCTAAGGCTATTCTGGATGCCTCACGGTCCTCCATGGGTCAGTGCAGAGCCTGGCAACCTGCATAAGGTATGGGGCTCTAAATAGCTGGCCTCTTGCATTCACACTTGGTTTTTCCTAGGCATGGACATATCTGCCATTGACTTGATAAACATCGAGAGCTTCTCCAGTCGTGTGGTGTCTTTATCTGAATACCGCCAGAGCCTACACACTTACCTGCGCTCCAAGATGAGCCAAGTAGCCCCCAGCCTGTCAGCCCTAATTGGGGAAGCGGTGCGTCACAGGGGACTCAAAAATGGGAGAATAAGGACTGTTGCCATGTGCACCTGCACTGCTGTATTTCGTGACCCACCATGTCTTCCCTAGTTGTGCTTGATGGGGAGGTGGGGAGCAGGGCTGTCGTGCAACTGGGCAGGTCAGCAGTTCATTTCTCTGACTGCTTCCTTGACTCTCTCTCCAGGTAGGTGCACGTCTCATCGCACATGCTGGCAGCCTCACCAACCTGGCCAAGTATCCAGCATCCACAGTGCAGATCCTTGGGGCTGAAAAGGCCCTGTTCAGGTACCAGTGAGGGCACCTGCCCACAATCAGGTGCCACTTCTGGTGCCCACTGCTTGTTGGGGGATCACGGTGATGGCTGACCAGGGCTCCCTGACCTATACAGGCCTCTGCTATGGGGGTGATGGCCAGTCCTGGTGTCTGAGTGATTCCCAGGGCCCAGCAAAGGGACCAAGTTTCCAGGTCAGCGACATTGGATGCCTTCCCTCTGCCTCTGGGAGCTATGGGTTGGCATGCATTGGGGTAGAGATCCAATCTGGCCTGAGGCTCACTCAGGACTTCGGGGTGAGAGGAGGGGAGGAGCTGAGCTGCCTTGGCTAATGGGGTTGAAATTTCTGATCTTAAACTCTCCACTGAATATTCTCTCAGAGCCCTGAAGACAAGGGGTAACACTCCAAAATATGGACTCATTTTCCACTCCACCTTCATTGGCCGAGCAGCTGCCAAGAACAAAGGCCGCATCTCCCGATACCTGGCAAACAAATGCAGTATTGCCTCACGAATCGATTGCTTCTCTGGTATGGGTGGGGGGGCGTTGGCAGGTGTGAGAAGGGGCTGGGTGGCTGGGTGGGGAGGCTTGCAACCATAGCTTCCACAATGATGGCAATATTTTTCGTCAACAGCAGTTCACCTAGTGAGTGTTGAGACTCTGGGTCTGAGTGAAGCTGAGGGTAGAGGGAACACAGGGTTGGGGTAGTTTCTCTCTTTGGGCTGACAGGCTTTGTCACCCACACACATCCAGAGGTGCCCACGAGTGTATTCGGGGAGAAGCTTCGAGAACAAGTTGAAGAGCGACTGTCCTTCTATGAGACTGGAGAGATACCACGAAAGAATCTGGATGTCATGAAGGAAGCAATGGTTCAGGTCAGTTGGGCTTTGCTGGGTGTGGAGTGGCATAGCTAGCTGTTGGAGGTGATGAACTGTCTGAGCCTGACCTTGTAGAATGGAGGCAAAAAAACTGATTTAATGAGCCTGATCCAATAAAGCCAGAAAGGAGTCCTCAGAGCACCAGAAGTCTTCAGGCCCTTTTAGCACTTTTCTTTGACCAGGCAGAGGAAGCGGCTGCTGAGATTACTAGGAAGCTGGAGAAACAGGAGAAGAAACGCTTAAAGAAGGAAAAGAAACGGCTGGCTGCACTTGCCCTCGCGTCTTCAGAAAACAGCAGTAGTACTCCAGAGGAGTGTGAGGTCAGTAGGCAGCACGGCCCTGGCAGAGATCCTAGGTTGTAGGATTTTCAACAGCAGAACAAAGGATATGCTGCATCAAGCTGTGGTCTTGAGTCCAGGCTTTTGGACTGAAACAAGGACCTGAAACATCTAAAACTACCTCTTGATTCTATAGGAAGGAGATAGGTGCTGAACTTGCTCAAGAGCCCAGAGAGCTGGTTGTAGCTCACACCCGTTCCCTGGGCATGTGTGTTCTGTCCTCGGCTGCCTCCCAGGAGTCCTCAACCTGGGGTAGTGTAAATTCCTGCTCTGCTTATTATCAGACGTGTGTCCGGAGGTGGTCGTGTTTCACAGTGGGGATGGGGGCAGGGAGGTCCCCAATGTGCTAAGCTACAATCATTCTCCCTGAGATTTTCATTTAGCACCCAGTTTCTTAAACAGTGTTTCAGGGCCCTGTCTGGAACTTGGCATGATGGTTCTGTTGCGACCAGCATGGTGGGTGTTTTTTAGGTTTTTTTTTTTAATGGGCTGAGGTAATTTCTCATGACATGTTTTCCTTCTAATTTGGGACAGCCTTTGGGGTGGATTTCTAAAGTTATACCCACACAATTAAACTATCCCAGAAACACTGGGCAATGTTAACGACACGCGTTCCCCTGCCTTGGCTACTTAATTGCTGAAGATGTAATGAGCACTGTTCTCACAGCCTGTTCCCCTGTCCTTCCCTTTAGGAGATGAGTGAAAAACCCAAAAAGAAGAAAAAGCAAAAGCCCCAGGAGGTTCCTCAGGAGAATGGAATGGAAGACCCATCTATCTCTTTCTCCAAACCCAAGAAAAAGAAATCTTTTTCCAAGGAGGAGTTGATGAGTAGCGATCTTGAAGAGACCGCTGGCAGCACCAGTATTCCCAAGAGGAAGAAGTCTACACCCAAGGAGGAAACAGTTAATGACCCTGAGGAGGCAGGCCACAGAAGTGGCTCCAAGAAAAAGAGGAAATTCTCCAAAGAGGAGCCGGTCAGCAGTGGGCCTGAAGAGGCGGTTGGCAAGAGCAGCTCCAAGAAGAAGAAAAAGTTCCATAAAGCATCCCAGGAAGATTAGAATGCAAATGGACATTCTCTGGGAGGTGGGGCATACCATAGCCCAAGGTGACATTTCCCACCCTGTGCCGTGTTCCCCAATAAAAACAAATTCACAAGAGTTGGTTCATGTTCTTTATTGAACACCTTACATGGGTATGGACAGGGCCTATGGGTGGGGCAAGGCAGCAATGACAGCCTCAGTGAAGTCATGGCAAGTAGCATAGCCACCCATGTCAGAGGTTCGAACCTGTGGGGGAGAATCATCATCATCCATGTGGCCTGGGCTCCATCCTAACAATCCCCATCACCACCCAACAGTCTGTCCCCTAAGGAAGCCGGCCCAAGGACAACCTAGGCTCTACCCAGCAAGGTGACCATGGTCCACTGCTTAGAGGCACAAGGTCTCTTCCCTGGTACACTGCACTGAAGGGTATGGGGAGTGTGGTCCTTGCAAGGTTGGAAGAAATAAAGGGCTCTAGCTCCCTTTAGTCTGCAGGTGACCGATGACAGACTTGATGAAGTCGGTTGTGGTGCTGTAGCCGCCCATGTCTCGAGTCCGCACCTACAGCCACCACCGGCAACAGCCGTGGGGAGGGAGAAAAGAGAGCCCATGAAGGGAGGTAGGGCAATGTGATTGAGGAAATGGAAGCCAAGAATGCGTGACAGCCAGAAAAAAGGCAATGCACAGGAATGGAAGGAGGAGCCAGGATGGGAAGCACATGGACCTGCCACTCCTCTTAAGCCACTATTAGCTGTGCTGCAGCCAGGGCAGGACAGGAGGCTGAGCAGGCAAAGATGATGGGAAACGCAGATCAGAGGCAGGATGTGGCTACCTTCCTTGGAAGAAATAGAGACAAGACCAGGTGGAAGGAAAGAATCACAGCGAAAAGGAGATGGGGCGTGAAGGTGAAGCTGATGCTTCAGCCTGCCTGTATCCCTTGCTGTTCCACCCCCAAGGAGAGCTGCAAGTTCTGCATTCAGATGGCCCATGAAAAGGGCAGTGGATGGAGCAGGAAAGAGGGAACAGCAGATGGGATCTAAGAGGCAAAAGAGATCAAGAGGATGAAACAGCCAAGAGAAGGGAGATGAAGAACAGCCCTGAGAGGGATGCAGGGATGTCAGGGAGCAGATGTTCTGGGGACCTGGGGGGAAAGGAGACCCCCATTCAGGTTCCCCAGAGGGTAGTGCCGAGGTGCTGACACCAGAACTACTCTAAATCCTGAAGCCAGCACTACTCTTCTCAACTCACCTTGCCAACTTTGATCACCTTCTTCACCGCATCTGCGATCATGCTGGAGTGATACTCAAGACTGTGGATATGGACAGGAAGAAACTGTGACTCCCCCAAGACACCTCCCGCTAATTTCCCCACCTGCTCCTCCTCACGACACCCAACCTCTGCCGACAGCCTCCCATGACCTACTTAAGATGCCGCAGCATGTTGGAAGCCGACAGCAGCATGGCCGTGGGATTGGCTATATTCCTGCCCACTGCCTGGGCAAATGGGTGCCGGGCACCCTGTGGAGAGAGGGGCAGGCTAGACACTGGGAGGAGGCAGGAGGGGTATGCAGAGGCTTAGGTTGGAAAAGGACATTATGGGAGGGGGAGCTCAGGCCAGGGTCACTGAAAAGAGGCATGGTGGGCAGCGTGGGGGAAGAACAGGCCAAGATCACTTAGGAAGTGGAGATATTGGGATGGGAGAGGAATGGCGGACTTGAGGTCAGAGGAAGGGCCGAGGGAGAAAGCAGCCTCACCGTCTCAAAGACTGCGTATTCTGCACTATAGCTCTCACCAGGGACCACACCAGCTCCCCCAACCAGGCCAGCAGCCAGATTGTCAATAATGTTCCCATAGAGATTGGGCATCACAAGCACATCAAACTGGTAAGGATTCTGCACCAGCTAGAGGGTGAGATGCAGGCATGAAGTAAATTCCACTCCCCACCCTCCTCCTCCGCCCCATGAGTAGAGATGTGGGGAGGCCTCACCTGCATGCAGCAGTTGTCTATGATCATTGTCTCAAATTTGATTTTGGGGTACAGTTCAGCAACTTCCTCACAGCACTGCAGGAACAACCCATCCCCAAGTTTCCTGTCCATGGGCCAAAGGGGACAGAATCAGCCAAGAAAGTACAGGGGCTACCTTCCCAGGAACCCATCCTACACAAAGCCATGCCCCTCACATGATGTTGGCCTTGTGGACAGCAGTGACCTTGCCCCGCCCCTTCTTGGTGGCATAGTCAAAGGCGAACTTT'"
      ]
     },
     "execution_count": 7,
     "metadata": {},
     "output_type": "execute_result"
    }
   ],
   "source": [
    "max_num_nucleotides = 1668\n",
    "\n",
    "idx_start = 2650520\n",
    "\n",
    "idx_stop = idx_start + max_num_nucleotides*6\n",
    "\n",
    "sequences = [chr20[idx_start:idx_stop]]\n",
    "\n",
    "chr20[idx_start:idx_stop]"
   ]
  },
  {
   "cell_type": "code",
   "execution_count": 5,
   "metadata": {},
   "outputs": [
    {
     "data": {
      "text/plain": [
       "64444167"
      ]
     },
     "execution_count": 5,
     "metadata": {},
     "output_type": "execute_result"
    }
   ],
   "source": [
    "len(chr20)"
   ]
  },
  {
   "cell_type": "markdown",
   "metadata": {},
   "source": [
    "# Try messing up with ATAC-seq dataset"
   ]
  },
  {
   "cell_type": "code",
   "execution_count": 19,
   "metadata": {},
   "outputs": [
    {
     "name": "stdout",
     "output_type": "stream",
     "text": [
      "Requirement already satisfied: h5py in /opt/conda/envs/trix/lib/python3.10/site-packages (3.11.0)\n",
      "Requirement already satisfied: numpy>=1.17.3 in /opt/conda/envs/trix/lib/python3.10/site-packages (from h5py) (1.25.2)\n",
      "\u001b[33mWARNING: Running pip as the 'root' user can result in broken permissions and conflicting behaviour with the system package manager. It is recommended to use a virtual environment instead: https://pip.pypa.io/warnings/venv\u001b[0m\u001b[33m\n",
      "\u001b[0mRequirement already satisfied: muon in /opt/conda/envs/trix/lib/python3.10/site-packages (0.1.6)\n",
      "Requirement already satisfied: anndata in /opt/conda/envs/trix/lib/python3.10/site-packages (from muon) (0.10.8)\n",
      "Requirement already satisfied: numba in /opt/conda/envs/trix/lib/python3.10/site-packages (from muon) (0.60.0)\n",
      "Requirement already satisfied: scanpy in /opt/conda/envs/trix/lib/python3.10/site-packages (from muon) (1.10.2)\n",
      "Requirement already satisfied: numpy in /opt/conda/envs/trix/lib/python3.10/site-packages (from muon) (1.25.2)\n",
      "Requirement already satisfied: pandas in /opt/conda/envs/trix/lib/python3.10/site-packages (from muon) (1.5.2)\n",
      "Requirement already satisfied: mudata in /opt/conda/envs/trix/lib/python3.10/site-packages (from muon) (0.2.3)\n",
      "Requirement already satisfied: scikit-learn in /opt/conda/envs/trix/lib/python3.10/site-packages (from muon) (1.2.2)\n",
      "Requirement already satisfied: h5py in /opt/conda/envs/trix/lib/python3.10/site-packages (from muon) (3.11.0)\n",
      "Requirement already satisfied: protobuf in /opt/conda/envs/trix/lib/python3.10/site-packages (from muon) (3.20.1)\n",
      "Requirement already satisfied: tqdm in /opt/conda/envs/trix/lib/python3.10/site-packages (from muon) (4.64.1)\n",
      "Requirement already satisfied: umap-learn in /opt/conda/envs/trix/lib/python3.10/site-packages (from muon) (0.5.6)\n",
      "Requirement already satisfied: matplotlib in /opt/conda/envs/trix/lib/python3.10/site-packages (from muon) (3.6.2)\n",
      "Requirement already satisfied: seaborn in /opt/conda/envs/trix/lib/python3.10/site-packages (from muon) (0.13.2)\n",
      "Requirement already satisfied: exceptiongroup in /opt/conda/envs/trix/lib/python3.10/site-packages (from anndata->muon) (1.2.0)\n",
      "Requirement already satisfied: array-api-compat!=1.5,>1.4 in /opt/conda/envs/trix/lib/python3.10/site-packages (from anndata->muon) (1.7.1)\n",
      "Requirement already satisfied: natsort in /opt/conda/envs/trix/lib/python3.10/site-packages (from anndata->muon) (8.4.0)\n",
      "Requirement already satisfied: scipy>1.8 in /opt/conda/envs/trix/lib/python3.10/site-packages (from anndata->muon) (1.12.0)\n",
      "Requirement already satisfied: packaging>=20.0 in /opt/conda/envs/trix/lib/python3.10/site-packages (from anndata->muon) (23.2)\n",
      "Requirement already satisfied: python-dateutil>=2.8.1 in /opt/conda/envs/trix/lib/python3.10/site-packages (from pandas->muon) (2.9.0.post0)\n",
      "Requirement already satisfied: pytz>=2020.1 in /opt/conda/envs/trix/lib/python3.10/site-packages (from pandas->muon) (2024.1)\n",
      "Requirement already satisfied: fonttools>=4.22.0 in /opt/conda/envs/trix/lib/python3.10/site-packages (from matplotlib->muon) (4.51.0)\n",
      "Requirement already satisfied: contourpy>=1.0.1 in /opt/conda/envs/trix/lib/python3.10/site-packages (from matplotlib->muon) (1.2.0)\n",
      "Requirement already satisfied: pillow>=6.2.0 in /opt/conda/envs/trix/lib/python3.10/site-packages (from matplotlib->muon) (10.3.0)\n",
      "Requirement already satisfied: pyparsing>=2.2.1 in /opt/conda/envs/trix/lib/python3.10/site-packages (from matplotlib->muon) (3.0.9)\n",
      "Requirement already satisfied: cycler>=0.10 in /opt/conda/envs/trix/lib/python3.10/site-packages (from matplotlib->muon) (0.11.0)\n",
      "Requirement already satisfied: kiwisolver>=1.0.1 in /opt/conda/envs/trix/lib/python3.10/site-packages (from matplotlib->muon) (1.4.4)\n",
      "Requirement already satisfied: llvmlite<0.44,>=0.43.0dev0 in /opt/conda/envs/trix/lib/python3.10/site-packages (from numba->muon) (0.43.0)\n",
      "Requirement already satisfied: legacy-api-wrap>=1.4 in /opt/conda/envs/trix/lib/python3.10/site-packages (from scanpy->muon) (1.4)\n",
      "Requirement already satisfied: joblib in /opt/conda/envs/trix/lib/python3.10/site-packages (from scanpy->muon) (1.2.0)\n",
      "Requirement already satisfied: patsy in /opt/conda/envs/trix/lib/python3.10/site-packages (from scanpy->muon) (0.5.6)\n",
      "Requirement already satisfied: session-info in /opt/conda/envs/trix/lib/python3.10/site-packages (from scanpy->muon) (1.0.0)\n",
      "Requirement already satisfied: networkx>=2.7 in /opt/conda/envs/trix/lib/python3.10/site-packages (from scanpy->muon) (3.3)\n",
      "Requirement already satisfied: pynndescent>=0.5 in /opt/conda/envs/trix/lib/python3.10/site-packages (from scanpy->muon) (0.5.13)\n",
      "Requirement already satisfied: statsmodels>=0.13 in /opt/conda/envs/trix/lib/python3.10/site-packages (from scanpy->muon) (0.14.2)\n",
      "Requirement already satisfied: threadpoolctl>=2.0.0 in /opt/conda/envs/trix/lib/python3.10/site-packages (from scikit-learn->muon) (2.2.0)\n",
      "Requirement already satisfied: six>=1.5 in /opt/conda/envs/trix/lib/python3.10/site-packages (from python-dateutil>=2.8.1->pandas->muon) (1.15.0)\n",
      "Requirement already satisfied: stdlib-list in /opt/conda/envs/trix/lib/python3.10/site-packages (from session-info->scanpy->muon) (0.10.0)\n",
      "\u001b[33mWARNING: Running pip as the 'root' user can result in broken permissions and conflicting behaviour with the system package manager. It is recommended to use a virtual environment instead: https://pip.pypa.io/warnings/venv\u001b[0m\u001b[33m\n",
      "\u001b[0m"
     ]
    }
   ],
   "source": [
    "!pip install h5py\n",
    "!pip install muon\n",
    "import muon\n",
    "import scanpy as sc\n"
   ]
  },
  {
   "cell_type": "code",
   "execution_count": 18,
   "metadata": {},
   "outputs": [
    {
     "name": "stderr",
     "output_type": "stream",
     "text": [
      "/opt/conda/envs/trix/lib/python3.10/site-packages/anndata/_core/anndata.py:1820: UserWarning: Variable names are not unique. To make them unique, call `.var_names_make_unique`.\n",
      "  utils.warn_names_duplicates(\"var\")\n"
     ]
    },
    {
     "name": "stdout",
     "output_type": "stream",
     "text": [
      "Added `interval` annotation for features from data/10k_PBMC_Multiome_nextgem_Chromium_X_filtered_feature_bc_matrix.h5\n"
     ]
    },
    {
     "name": "stderr",
     "output_type": "stream",
     "text": [
      "/opt/conda/envs/trix/lib/python3.10/site-packages/mudata/_core/mudata.py:479: UserWarning: var_names are not unique. To make them unique, call `.var_names_make_unique`.\n",
      "  warnings.warn(\n",
      "/opt/conda/envs/trix/lib/python3.10/site-packages/mudata/_core/mudata.py:710: FutureWarning: In a future version, `df.iloc[:, i] = newvals` will attempt to set the values inplace instead of always setting a new array. To retain the old behavior, use either `df[df.columns[i]] = newvals` or, if columns are non-unique, `df.isetitem(i, newvals)`\n",
      "  data_mod.loc[:, colname] = col\n",
      "/opt/conda/envs/trix/lib/python3.10/site-packages/mudata/_core/mudata.py:710: FutureWarning: In a future version, `df.iloc[:, i] = newvals` will attempt to set the values inplace instead of always setting a new array. To retain the old behavior, use either `df[df.columns[i]] = newvals` or, if columns are non-unique, `df.isetitem(i, newvals)`\n",
      "  data_mod.loc[:, colname] = col\n"
     ]
    }
   ],
   "source": [
    "mdata = muon.read_10x_h5(\"data/10k_PBMC_Multiome_nextgem_Chromium_X_filtered_feature_bc_matrix.h5\")"
   ]
  },
  {
   "cell_type": "code",
   "execution_count": 20,
   "metadata": {},
   "outputs": [
    {
     "name": "stdout",
     "output_type": "stream",
     "text": [
      "(10970, 111743)\n",
      "(10970, 37054)\n"
     ]
    }
   ],
   "source": [
    "adata = mdata.mod[\"atac\"]\n",
    "\n",
    "print(adata.shape)\n",
    "# compute the threshold: 5% of the cells\n",
    "min_cells = int(adata.shape[0] * 0.05)\n",
    "# in-place filtering of regions\n",
    "sc.pp.filter_genes(adata, min_cells=min_cells)\n",
    "print(adata.shape)"
   ]
  },
  {
   "cell_type": "code",
   "execution_count": 21,
   "metadata": {},
   "outputs": [
    {
     "data": {
      "text/html": [
       "<div>\n",
       "<style scoped>\n",
       "    .dataframe tbody tr th:only-of-type {\n",
       "        vertical-align: middle;\n",
       "    }\n",
       "\n",
       "    .dataframe tbody tr th {\n",
       "        vertical-align: top;\n",
       "    }\n",
       "\n",
       "    .dataframe thead th {\n",
       "        text-align: right;\n",
       "    }\n",
       "</style>\n",
       "<table border=\"1\" class=\"dataframe\">\n",
       "  <thead>\n",
       "    <tr style=\"text-align: right;\">\n",
       "      <th></th>\n",
       "      <th>gene_ids</th>\n",
       "      <th>feature_types</th>\n",
       "      <th>genome</th>\n",
       "      <th>interval</th>\n",
       "      <th>n_cells</th>\n",
       "    </tr>\n",
       "  </thead>\n",
       "  <tbody>\n",
       "    <tr>\n",
       "      <th>chr1:629395-630394</th>\n",
       "      <td>chr1:629395-630394</td>\n",
       "      <td>Peaks</td>\n",
       "      <td>GRCh38</td>\n",
       "      <td>chr1:629395-630394</td>\n",
       "      <td>1422</td>\n",
       "    </tr>\n",
       "    <tr>\n",
       "      <th>chr1:633578-634591</th>\n",
       "      <td>chr1:633578-634591</td>\n",
       "      <td>Peaks</td>\n",
       "      <td>GRCh38</td>\n",
       "      <td>chr1:633578-634591</td>\n",
       "      <td>4536</td>\n",
       "    </tr>\n",
       "    <tr>\n",
       "      <th>chr1:778283-779200</th>\n",
       "      <td>chr1:778283-779200</td>\n",
       "      <td>Peaks</td>\n",
       "      <td>GRCh38</td>\n",
       "      <td>chr1:778283-779200</td>\n",
       "      <td>5981</td>\n",
       "    </tr>\n",
       "    <tr>\n",
       "      <th>chr1:816873-817775</th>\n",
       "      <td>chr1:816873-817775</td>\n",
       "      <td>Peaks</td>\n",
       "      <td>GRCh38</td>\n",
       "      <td>chr1:816873-817775</td>\n",
       "      <td>564</td>\n",
       "    </tr>\n",
       "    <tr>\n",
       "      <th>chr1:827067-827949</th>\n",
       "      <td>chr1:827067-827949</td>\n",
       "      <td>Peaks</td>\n",
       "      <td>GRCh38</td>\n",
       "      <td>chr1:827067-827949</td>\n",
       "      <td>3150</td>\n",
       "    </tr>\n",
       "    <tr>\n",
       "      <th>...</th>\n",
       "      <td>...</td>\n",
       "      <td>...</td>\n",
       "      <td>...</td>\n",
       "      <td>...</td>\n",
       "      <td>...</td>\n",
       "    </tr>\n",
       "    <tr>\n",
       "      <th>GL000219.1:44739-45583</th>\n",
       "      <td>GL000219.1:44739-45583</td>\n",
       "      <td>Peaks</td>\n",
       "      <td>GRCh38</td>\n",
       "      <td>GL000219.1:44739-45583</td>\n",
       "      <td>781</td>\n",
       "    </tr>\n",
       "    <tr>\n",
       "      <th>GL000219.1:45726-46446</th>\n",
       "      <td>GL000219.1:45726-46446</td>\n",
       "      <td>Peaks</td>\n",
       "      <td>GRCh38</td>\n",
       "      <td>GL000219.1:45726-46446</td>\n",
       "      <td>639</td>\n",
       "    </tr>\n",
       "    <tr>\n",
       "      <th>GL000219.1:99267-100169</th>\n",
       "      <td>GL000219.1:99267-100169</td>\n",
       "      <td>Peaks</td>\n",
       "      <td>GRCh38</td>\n",
       "      <td>GL000219.1:99267-100169</td>\n",
       "      <td>6830</td>\n",
       "    </tr>\n",
       "    <tr>\n",
       "      <th>KI270726.1:41483-42332</th>\n",
       "      <td>KI270726.1:41483-42332</td>\n",
       "      <td>Peaks</td>\n",
       "      <td>GRCh38</td>\n",
       "      <td>KI270726.1:41483-42332</td>\n",
       "      <td>605</td>\n",
       "    </tr>\n",
       "    <tr>\n",
       "      <th>KI270713.1:21453-22374</th>\n",
       "      <td>KI270713.1:21453-22374</td>\n",
       "      <td>Peaks</td>\n",
       "      <td>GRCh38</td>\n",
       "      <td>KI270713.1:21453-22374</td>\n",
       "      <td>6247</td>\n",
       "    </tr>\n",
       "  </tbody>\n",
       "</table>\n",
       "<p>37054 rows × 5 columns</p>\n",
       "</div>"
      ],
      "text/plain": [
       "                                        gene_ids feature_types  genome  \\\n",
       "chr1:629395-630394            chr1:629395-630394         Peaks  GRCh38   \n",
       "chr1:633578-634591            chr1:633578-634591         Peaks  GRCh38   \n",
       "chr1:778283-779200            chr1:778283-779200         Peaks  GRCh38   \n",
       "chr1:816873-817775            chr1:816873-817775         Peaks  GRCh38   \n",
       "chr1:827067-827949            chr1:827067-827949         Peaks  GRCh38   \n",
       "...                                          ...           ...     ...   \n",
       "GL000219.1:44739-45583    GL000219.1:44739-45583         Peaks  GRCh38   \n",
       "GL000219.1:45726-46446    GL000219.1:45726-46446         Peaks  GRCh38   \n",
       "GL000219.1:99267-100169  GL000219.1:99267-100169         Peaks  GRCh38   \n",
       "KI270726.1:41483-42332    KI270726.1:41483-42332         Peaks  GRCh38   \n",
       "KI270713.1:21453-22374    KI270713.1:21453-22374         Peaks  GRCh38   \n",
       "\n",
       "                                        interval  n_cells  \n",
       "chr1:629395-630394            chr1:629395-630394     1422  \n",
       "chr1:633578-634591            chr1:633578-634591     4536  \n",
       "chr1:778283-779200            chr1:778283-779200     5981  \n",
       "chr1:816873-817775            chr1:816873-817775      564  \n",
       "chr1:827067-827949            chr1:827067-827949     3150  \n",
       "...                                          ...      ...  \n",
       "GL000219.1:44739-45583    GL000219.1:44739-45583      781  \n",
       "GL000219.1:45726-46446    GL000219.1:45726-46446      639  \n",
       "GL000219.1:99267-100169  GL000219.1:99267-100169     6830  \n",
       "KI270726.1:41483-42332    KI270726.1:41483-42332      605  \n",
       "KI270713.1:21453-22374    KI270713.1:21453-22374     6247  \n",
       "\n",
       "[37054 rows x 5 columns]"
      ]
     },
     "execution_count": 21,
     "metadata": {},
     "output_type": "execute_result"
    }
   ],
   "source": [
    "adata.var"
   ]
  },
  {
   "cell_type": "code",
   "execution_count": null,
   "metadata": {},
   "outputs": [],
   "source": []
  }
 ],
 "metadata": {
  "kernelspec": {
   "display_name": "Python 3 (ipykernel)",
   "language": "python",
   "name": "python3"
  },
  "language_info": {
   "codemirror_mode": {
    "name": "ipython",
    "version": 3
   },
   "file_extension": ".py",
   "mimetype": "text/x-python",
   "name": "python",
   "nbconvert_exporter": "python",
   "pygments_lexer": "ipython3",
   "version": "3.10.14"
  }
 },
 "nbformat": 4,
 "nbformat_minor": 2
}
