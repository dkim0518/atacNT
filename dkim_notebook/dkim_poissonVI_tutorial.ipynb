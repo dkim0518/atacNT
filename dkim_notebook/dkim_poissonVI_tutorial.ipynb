{
 "cells": [
  {
   "cell_type": "markdown",
   "metadata": {},
   "source": [
    "# PoissonVI: Analyzing quantitative scATAC-seq fragment counts"
   ]
  },
  {
   "cell_type": "code",
   "execution_count": 2,
   "metadata": {},
   "outputs": [
    {
     "name": "stdout",
     "output_type": "stream",
     "text": [
      "Collecting pooch\n",
      "  Downloading pooch-1.8.2-py3-none-any.whl (64 kB)\n",
      "\u001b[2K     \u001b[90m━━━━━━━━━━━━━━━━━━━━━━━━━━━━━━━━━━━━━━━━\u001b[0m \u001b[32m64.6/64.6 kB\u001b[0m \u001b[31m5.3 MB/s\u001b[0m eta \u001b[36m0:00:00\u001b[0m\n",
      "\u001b[?25hCollecting scanpy\n",
      "  Downloading scanpy-1.10.2-py3-none-any.whl (2.1 MB)\n",
      "\u001b[2K     \u001b[90m━━━━━━━━━━━━━━━━━━━━━━━━━━━━━━━━━━━━━━━━\u001b[0m \u001b[32m2.1/2.1 MB\u001b[0m \u001b[31m65.5 MB/s\u001b[0m eta \u001b[36m0:00:00\u001b[0m\n",
      "\u001b[?25hCollecting scvi\n",
      "  Downloading scvi-0.6.8-py2.py3-none-any.whl (158 kB)\n",
      "\u001b[2K     \u001b[90m━━━━━━━━━━━━━━━━━━━━━━━━━━━━━━━━━━━━━\u001b[0m \u001b[32m158.8/158.8 kB\u001b[0m \u001b[31m332.7 MB/s\u001b[0m eta \u001b[36m0:00:00\u001b[0m\n",
      "\u001b[?25hRequirement already satisfied: torch in /opt/conda/envs/trix/lib/python3.10/site-packages (2.0.0+cpu)\n",
      "Collecting muon\n",
      "  Downloading muon-0.1.6-py3-none-any.whl (293 kB)\n",
      "\u001b[2K     \u001b[90m━━━━━━━━━━━━━━━━━━━━━━━━━━━━━━━━━━━━━\u001b[0m \u001b[32m293.3/293.3 kB\u001b[0m \u001b[31m361.7 MB/s\u001b[0m eta \u001b[36m0:00:00\u001b[0m\n",
      "\u001b[?25hCollecting anndata\n",
      "  Downloading anndata-0.10.8-py3-none-any.whl (124 kB)\n",
      "\u001b[2K     \u001b[90m━━━━━━━━━━━━━━━━━━━━━━━━━━━━━━━━━━━━━\u001b[0m \u001b[32m124.4/124.4 kB\u001b[0m \u001b[31m327.6 MB/s\u001b[0m eta \u001b[36m0:00:00\u001b[0m\n",
      "\u001b[?25hRequirement already satisfied: packaging>=20.0 in /opt/conda/envs/trix/lib/python3.10/site-packages (from pooch) (23.2)\n",
      "Requirement already satisfied: requests>=2.19.0 in /opt/conda/envs/trix/lib/python3.10/site-packages (from pooch) (2.32.2)\n",
      "Requirement already satisfied: platformdirs>=2.5.0 in /opt/conda/envs/trix/lib/python3.10/site-packages (from pooch) (3.10.0)\n",
      "Collecting numba>=0.56\n",
      "  Downloading numba-0.60.0-cp310-cp310-manylinux2014_x86_64.manylinux_2_17_x86_64.whl (3.7 MB)\n",
      "\u001b[2K     \u001b[90m━━━━━━━━━━━━━━━━━━━━━━━━━━━━━━━━━━━━━━━━\u001b[0m \u001b[32m3.7/3.7 MB\u001b[0m \u001b[31m288.9 MB/s\u001b[0m eta \u001b[36m0:00:00\u001b[0m\n",
      "\u001b[?25hRequirement already satisfied: scikit-learn>=0.24 in /opt/conda/envs/trix/lib/python3.10/site-packages (from scanpy) (1.2.2)\n",
      "Collecting session-info\n",
      "  Downloading session_info-1.0.0.tar.gz (24 kB)\n",
      "  Preparing metadata (setup.py) ... \u001b[?25ldone\n",
      "\u001b[?25hCollecting natsort\n",
      "  Downloading natsort-8.4.0-py3-none-any.whl (38 kB)\n",
      "Requirement already satisfied: networkx>=2.7 in /opt/conda/envs/trix/lib/python3.10/site-packages (from scanpy) (3.3)\n",
      "Collecting seaborn>=0.13\n",
      "  Downloading seaborn-0.13.2-py3-none-any.whl (294 kB)\n",
      "\u001b[2K     \u001b[90m━━━━━━━━━━━━━━━━━━━━━━━━━━━━━━━━━━━━━\u001b[0m \u001b[32m294.9/294.9 kB\u001b[0m \u001b[31m357.5 MB/s\u001b[0m eta \u001b[36m0:00:00\u001b[0m\n",
      "\u001b[?25hCollecting patsy\n",
      "  Downloading patsy-0.5.6-py2.py3-none-any.whl (233 kB)\n",
      "\u001b[2K     \u001b[90m━━━━━━━━━━━━━━━━━━━━━━━━━━━━━━━━━━━━━\u001b[0m \u001b[32m233.9/233.9 kB\u001b[0m \u001b[31m352.1 MB/s\u001b[0m eta \u001b[36m0:00:00\u001b[0m\n",
      "\u001b[?25hRequirement already satisfied: scipy>=1.8 in /opt/conda/envs/trix/lib/python3.10/site-packages (from scanpy) (1.12.0)\n",
      "Collecting pynndescent>=0.5\n",
      "  Downloading pynndescent-0.5.13-py3-none-any.whl (56 kB)\n",
      "\u001b[2K     \u001b[90m━━━━━━━━━━━━━━━━━━━━━━━━━━━━━━━━━━━━━━━\u001b[0m \u001b[32m56.9/56.9 kB\u001b[0m \u001b[31m277.3 MB/s\u001b[0m eta \u001b[36m0:00:00\u001b[0m\n",
      "\u001b[?25hRequirement already satisfied: matplotlib>=3.6 in /opt/conda/envs/trix/lib/python3.10/site-packages (from scanpy) (3.6.2)\n",
      "Requirement already satisfied: numpy<2,>=1.23 in /opt/conda/envs/trix/lib/python3.10/site-packages (from scanpy) (1.25.2)\n",
      "Requirement already satisfied: pandas>=1.5 in /opt/conda/envs/trix/lib/python3.10/site-packages (from scanpy) (1.5.2)\n",
      "Requirement already satisfied: joblib in /opt/conda/envs/trix/lib/python3.10/site-packages (from scanpy) (1.2.0)\n",
      "Collecting h5py>=3.1\n",
      "  Downloading h5py-3.11.0-cp310-cp310-manylinux_2_17_x86_64.manylinux2014_x86_64.whl (5.3 MB)\n",
      "\u001b[2K     \u001b[90m━━━━━━━━━━━━━━━━━━━━━━━━━━━━━━━━━━━━━━━━\u001b[0m \u001b[32m5.3/5.3 MB\u001b[0m \u001b[31m351.1 MB/s\u001b[0m eta \u001b[36m0:00:00\u001b[0m\n",
      "\u001b[?25hCollecting legacy-api-wrap>=1.4\n",
      "  Downloading legacy_api_wrap-1.4-py3-none-any.whl (15 kB)\n",
      "Collecting umap-learn!=0.5.0,>=0.5\n",
      "  Downloading umap_learn-0.5.6-py3-none-any.whl (85 kB)\n",
      "\u001b[2K     \u001b[90m━━━━━━━━━━━━━━━━━━━━━━━━━━━━━━━━━━━━━━━\u001b[0m \u001b[32m85.7/85.7 kB\u001b[0m \u001b[31m320.3 MB/s\u001b[0m eta \u001b[36m0:00:00\u001b[0m\n",
      "\u001b[?25hCollecting statsmodels>=0.13\n",
      "  Downloading statsmodels-0.14.2-cp310-cp310-manylinux_2_17_x86_64.manylinux2014_x86_64.whl (10.8 MB)\n",
      "\u001b[2K     \u001b[90m━━━━━━━━━━━━━━━━━━━━━━━━━━━━━━━━━━━━━━━\u001b[0m \u001b[32m10.8/10.8 MB\u001b[0m \u001b[31m322.0 MB/s\u001b[0m eta \u001b[36m0:00:00\u001b[0m\n",
      "\u001b[?25hRequirement already satisfied: tqdm in /opt/conda/envs/trix/lib/python3.10/site-packages (from scanpy) (4.64.1)\n",
      "Collecting scikit-misc>=0.1.3\n",
      "  Downloading scikit_misc-0.4.0-cp310-cp310-manylinux_2_17_x86_64.manylinux2014_x86_64.whl (10.8 MB)\n",
      "\u001b[2K     \u001b[90m━━━━━━━━━━━━━━━━━━━━━━━━━━━━━━━━━━━━━━━\u001b[0m \u001b[32m10.8/10.8 MB\u001b[0m \u001b[31m122.7 MB/s\u001b[0m eta \u001b[36m0:00:00\u001b[0ma \u001b[36m0:00:01\u001b[0m\n",
      "\u001b[?25hCollecting xlrd>=1.2.0\n",
      "  Downloading xlrd-2.0.1-py2.py3-none-any.whl (96 kB)\n",
      "\u001b[2K     \u001b[90m━━━━━━━━━━━━━━━━━━━━━━━━━━━━━━━━━━━━━━━\u001b[0m \u001b[32m96.5/96.5 kB\u001b[0m \u001b[31m321.4 MB/s\u001b[0m eta \u001b[36m0:00:00\u001b[0m\n",
      "\u001b[?25hCollecting hyperopt==0.1.2\n",
      "  Downloading hyperopt-0.1.2-py3-none-any.whl (115 kB)\n",
      "\u001b[2K     \u001b[90m━━━━━━━━━━━━━━━━━━━━━━━━━━━━━━━━━━━━━\u001b[0m \u001b[32m115.2/115.2 kB\u001b[0m \u001b[31m350.1 MB/s\u001b[0m eta \u001b[36m0:00:00\u001b[0m\n",
      "\u001b[?25hCollecting pymongo\n",
      "  Downloading pymongo-4.7.3-cp310-cp310-manylinux_2_17_x86_64.manylinux2014_x86_64.whl (669 kB)\n",
      "\u001b[2K     \u001b[90m━━━━━━━━━━━━━━━━━━━━━━━━━━━━━━━━━━━━━\u001b[0m \u001b[32m669.1/669.1 kB\u001b[0m \u001b[31m377.3 MB/s\u001b[0m eta \u001b[36m0:00:00\u001b[0m\n",
      "\u001b[?25hRequirement already satisfied: future in /opt/conda/envs/trix/lib/python3.10/site-packages (from hyperopt==0.1.2->scvi) (1.0.0)\n",
      "Requirement already satisfied: six in /opt/conda/envs/trix/lib/python3.10/site-packages (from hyperopt==0.1.2->scvi) (1.15.0)\n",
      "Requirement already satisfied: typing-extensions in /opt/conda/envs/trix/lib/python3.10/site-packages (from torch) (4.11.0)\n",
      "Requirement already satisfied: sympy in /opt/conda/envs/trix/lib/python3.10/site-packages (from torch) (1.12.1)\n",
      "Requirement already satisfied: jinja2 in /opt/conda/envs/trix/lib/python3.10/site-packages (from torch) (3.1.4)\n",
      "Requirement already satisfied: filelock in /opt/conda/envs/trix/lib/python3.10/site-packages (from torch) (3.13.1)\n",
      "Requirement already satisfied: protobuf in /opt/conda/envs/trix/lib/python3.10/site-packages (from muon) (3.20.1)\n",
      "Collecting mudata\n",
      "  Downloading mudata-0.2.3-py3-none-any.whl (24 kB)\n",
      "Collecting array-api-compat!=1.5,>1.4\n",
      "  Downloading array_api_compat-1.7.1-py3-none-any.whl (37 kB)\n",
      "Requirement already satisfied: exceptiongroup in /opt/conda/envs/trix/lib/python3.10/site-packages (from anndata) (1.2.0)\n",
      "Requirement already satisfied: cycler>=0.10 in /opt/conda/envs/trix/lib/python3.10/site-packages (from matplotlib>=3.6->scanpy) (0.11.0)\n",
      "Requirement already satisfied: pillow>=6.2.0 in /opt/conda/envs/trix/lib/python3.10/site-packages (from matplotlib>=3.6->scanpy) (10.3.0)\n",
      "Requirement already satisfied: contourpy>=1.0.1 in /opt/conda/envs/trix/lib/python3.10/site-packages (from matplotlib>=3.6->scanpy) (1.2.0)\n",
      "Requirement already satisfied: pyparsing>=2.2.1 in /opt/conda/envs/trix/lib/python3.10/site-packages (from matplotlib>=3.6->scanpy) (3.0.9)\n",
      "Requirement already satisfied: fonttools>=4.22.0 in /opt/conda/envs/trix/lib/python3.10/site-packages (from matplotlib>=3.6->scanpy) (4.51.0)\n",
      "Requirement already satisfied: python-dateutil>=2.7 in /opt/conda/envs/trix/lib/python3.10/site-packages (from matplotlib>=3.6->scanpy) (2.9.0.post0)\n",
      "Requirement already satisfied: kiwisolver>=1.0.1 in /opt/conda/envs/trix/lib/python3.10/site-packages (from matplotlib>=3.6->scanpy) (1.4.4)\n",
      "Collecting llvmlite<0.44,>=0.43.0dev0\n",
      "  Downloading llvmlite-0.43.0-cp310-cp310-manylinux_2_17_x86_64.manylinux2014_x86_64.whl (43.9 MB)\n",
      "\u001b[2K     \u001b[90m━━━━━━━━━━━━━━━━━━━━━━━━━━━━━━━━━━━━━━━\u001b[0m \u001b[32m43.9/43.9 MB\u001b[0m \u001b[31m243.4 MB/s\u001b[0m eta \u001b[36m0:00:00\u001b[0ma \u001b[36m0:00:01\u001b[0m\n",
      "\u001b[?25hRequirement already satisfied: pytz>=2020.1 in /opt/conda/envs/trix/lib/python3.10/site-packages (from pandas>=1.5->scanpy) (2024.1)\n",
      "Requirement already satisfied: charset-normalizer<4,>=2 in /opt/conda/envs/trix/lib/python3.10/site-packages (from requests>=2.19.0->pooch) (2.0.4)\n",
      "Requirement already satisfied: idna<4,>=2.5 in /opt/conda/envs/trix/lib/python3.10/site-packages (from requests>=2.19.0->pooch) (3.7)\n",
      "Requirement already satisfied: urllib3<3,>=1.21.1 in /opt/conda/envs/trix/lib/python3.10/site-packages (from requests>=2.19.0->pooch) (2.2.1)\n",
      "Requirement already satisfied: certifi>=2017.4.17 in /opt/conda/envs/trix/lib/python3.10/site-packages (from requests>=2.19.0->pooch) (2024.6.2)\n",
      "Requirement already satisfied: threadpoolctl>=2.0.0 in /opt/conda/envs/trix/lib/python3.10/site-packages (from scikit-learn>=0.24->scanpy) (2.2.0)\n",
      "Requirement already satisfied: MarkupSafe>=2.0 in /opt/conda/envs/trix/lib/python3.10/site-packages (from jinja2->torch) (2.1.3)\n",
      "Collecting stdlib_list\n",
      "  Downloading stdlib_list-0.10.0-py3-none-any.whl (79 kB)\n",
      "\u001b[2K     \u001b[90m━━━━━━━━━━━━━━━━━━━━━━━━━━━━━━━━━━━━━━━\u001b[0m \u001b[32m79.8/79.8 kB\u001b[0m \u001b[31m323.5 MB/s\u001b[0m eta \u001b[36m0:00:00\u001b[0m\n",
      "\u001b[?25hRequirement already satisfied: mpmath<1.4.0,>=1.1.0 in /opt/conda/envs/trix/lib/python3.10/site-packages (from sympy->torch) (1.3.0)\n",
      "Collecting dnspython<3.0.0,>=1.16.0\n",
      "  Downloading dnspython-2.6.1-py3-none-any.whl (307 kB)\n",
      "\u001b[2K     \u001b[90m━━━━━━━━━━━━━━━━━━━━━━━━━━━━━━━━━━━━━\u001b[0m \u001b[32m307.7/307.7 kB\u001b[0m \u001b[31m352.6 MB/s\u001b[0m eta \u001b[36m0:00:00\u001b[0m\n",
      "\u001b[?25hBuilding wheels for collected packages: session-info\n",
      "  Building wheel for session-info (setup.py) ... \u001b[?25ldone\n",
      "\u001b[?25h  Created wheel for session-info: filename=session_info-1.0.0-py3-none-any.whl size=8024 sha256=ec2db244659f85772bab531f34a26a8d19175a0d226713afc2149b21c06a5208\n",
      "  Stored in directory: /tmp/pip-ephem-wheel-cache-yuw5bas0/wheels/eb/4a/d2/ce798b0ff7bd8cc299e4e0eee863d4f792eddbc3c90af1adec\n",
      "Successfully built session-info\n",
      "Installing collected packages: array-api-compat, xlrd, stdlib_list, scikit-misc, patsy, natsort, llvmlite, legacy-api-wrap, h5py, dnspython, session-info, pymongo, pooch, numba, statsmodels, seaborn, pynndescent, hyperopt, anndata, umap-learn, mudata, scanpy, scvi, muon\n",
      "Successfully installed anndata-0.10.8 array-api-compat-1.7.1 dnspython-2.6.1 h5py-3.11.0 hyperopt-0.1.2 legacy-api-wrap-1.4 llvmlite-0.43.0 mudata-0.2.3 muon-0.1.6 natsort-8.4.0 numba-0.60.0 patsy-0.5.6 pooch-1.8.2 pymongo-4.7.3 pynndescent-0.5.13 scanpy-1.10.2 scikit-misc-0.4.0 scvi-0.6.8 seaborn-0.13.2 session-info-1.0.0 statsmodels-0.14.2 stdlib_list-0.10.0 umap-learn-0.5.6 xlrd-2.0.1\n",
      "\u001b[33mWARNING: Running pip as the 'root' user can result in broken permissions and conflicting behaviour with the system package manager. It is recommended to use a virtual environment instead: https://pip.pypa.io/warnings/venv\u001b[0m\u001b[33m\n",
      "\u001b[0m"
     ]
    }
   ],
   "source": [
    "!pip install pooch scanpy scvi torch muon anndata\n",
    "\n",
    "import os\n",
    "import tempfile\n",
    "from pathlib import Path\n",
    "from scipy.sparse import csr_matrix\n",
    "import numpy as np\n",
    "import anndata\n",
    "import pooch\n",
    "import scanpy as sc\n",
    "import torch\n",
    "import muon"
   ]
  },
  {
   "cell_type": "code",
   "execution_count": 5,
   "metadata": {},
   "outputs": [
    {
     "data": {
      "text/html": [
       "<div>\n",
       "<style scoped>\n",
       "    .dataframe tbody tr th:only-of-type {\n",
       "        vertical-align: middle;\n",
       "    }\n",
       "\n",
       "    .dataframe tbody tr th {\n",
       "        vertical-align: top;\n",
       "    }\n",
       "\n",
       "    .dataframe thead th {\n",
       "        text-align: right;\n",
       "    }\n",
       "</style>\n",
       "<table border=\"1\" class=\"dataframe\">\n",
       "  <thead>\n",
       "    <tr style=\"text-align: right;\">\n",
       "      <th></th>\n",
       "      <th>gene_ids</th>\n",
       "      <th>feature_types</th>\n",
       "      <th>derivation</th>\n",
       "      <th>genome</th>\n",
       "    </tr>\n",
       "  </thead>\n",
       "  <tbody>\n",
       "    <tr>\n",
       "      <th>chr1:10404-10411</th>\n",
       "      <td>chr1:10404-10411</td>\n",
       "      <td>Peaks</td>\n",
       "      <td></td>\n",
       "      <td>hg19</td>\n",
       "    </tr>\n",
       "    <tr>\n",
       "      <th>chr1:237567-237947</th>\n",
       "      <td>chr1:237567-237947</td>\n",
       "      <td>Peaks</td>\n",
       "      <td></td>\n",
       "      <td>hg19</td>\n",
       "    </tr>\n",
       "    <tr>\n",
       "      <th>chr1:565116-565538</th>\n",
       "      <td>chr1:565116-565538</td>\n",
       "      <td>Peaks</td>\n",
       "      <td></td>\n",
       "      <td>hg19</td>\n",
       "    </tr>\n",
       "    <tr>\n",
       "      <th>chr1:569178-569639</th>\n",
       "      <td>chr1:569178-569639</td>\n",
       "      <td>Peaks</td>\n",
       "      <td></td>\n",
       "      <td>hg19</td>\n",
       "    </tr>\n",
       "    <tr>\n",
       "      <th>chr1:713460-715296</th>\n",
       "      <td>chr1:713460-715296</td>\n",
       "      <td>Peaks</td>\n",
       "      <td></td>\n",
       "      <td>hg19</td>\n",
       "    </tr>\n",
       "    <tr>\n",
       "      <th>...</th>\n",
       "      <td>...</td>\n",
       "      <td>...</td>\n",
       "      <td>...</td>\n",
       "      <td>...</td>\n",
       "    </tr>\n",
       "    <tr>\n",
       "      <th>chrY:23602417-23602787</th>\n",
       "      <td>chrY:23602417-23602787</td>\n",
       "      <td>Peaks</td>\n",
       "      <td></td>\n",
       "      <td>hg19</td>\n",
       "    </tr>\n",
       "    <tr>\n",
       "      <th>chrY:23898794-23899450</th>\n",
       "      <td>chrY:23898794-23899450</td>\n",
       "      <td>Peaks</td>\n",
       "      <td></td>\n",
       "      <td>hg19</td>\n",
       "    </tr>\n",
       "    <tr>\n",
       "      <th>chrY:28816591-28817535</th>\n",
       "      <td>chrY:28816591-28817535</td>\n",
       "      <td>Peaks</td>\n",
       "      <td></td>\n",
       "      <td>hg19</td>\n",
       "    </tr>\n",
       "    <tr>\n",
       "      <th>chrY:58827188-58827516</th>\n",
       "      <td>chrY:58827188-58827516</td>\n",
       "      <td>Peaks</td>\n",
       "      <td></td>\n",
       "      <td>hg19</td>\n",
       "    </tr>\n",
       "    <tr>\n",
       "      <th>chrY:58855909-58856257</th>\n",
       "      <td>chrY:58855909-58856257</td>\n",
       "      <td>Peaks</td>\n",
       "      <td></td>\n",
       "      <td>hg19</td>\n",
       "    </tr>\n",
       "  </tbody>\n",
       "</table>\n",
       "<p>115554 rows × 4 columns</p>\n",
       "</div>"
      ],
      "text/plain": [
       "                                      gene_ids feature_types derivation genome\n",
       "chr1:10404-10411              chr1:10404-10411         Peaks              hg19\n",
       "chr1:237567-237947          chr1:237567-237947         Peaks              hg19\n",
       "chr1:565116-565538          chr1:565116-565538         Peaks              hg19\n",
       "chr1:569178-569639          chr1:569178-569639         Peaks              hg19\n",
       "chr1:713460-715296          chr1:713460-715296         Peaks              hg19\n",
       "...                                        ...           ...        ...    ...\n",
       "chrY:23602417-23602787  chrY:23602417-23602787         Peaks              hg19\n",
       "chrY:23898794-23899450  chrY:23898794-23899450         Peaks              hg19\n",
       "chrY:28816591-28817535  chrY:28816591-28817535         Peaks              hg19\n",
       "chrY:58827188-58827516  chrY:58827188-58827516         Peaks              hg19\n",
       "chrY:58855909-58856257  chrY:58855909-58856257         Peaks              hg19\n",
       "\n",
       "[115554 rows x 4 columns]"
      ]
     },
     "execution_count": 5,
     "metadata": {},
     "output_type": "execute_result"
    }
   ],
   "source": [
    "# curl -O https://cf.10xgenomics.com/samples/cell-atac/1.2.0/atac_pbmc_5k_nextgem/atac_pbmc_5k_nextgem_filtered_peak_bc_matrix.h5\n",
    "\n",
    "mdata = muon.read_10x_h5(\"data/atac_pbmc_5k_nextgem_filtered_peak_bc_matrix.h5\")\n",
    "mdata\n",
    "\n",
    "adata = mdata.mod[\"atac\"]\n",
    "adata.var"
   ]
  },
  {
   "cell_type": "code",
   "execution_count": 6,
   "metadata": {},
   "outputs": [
    {
     "data": {
      "text/plain": [
       "1617289"
      ]
     },
     "execution_count": 6,
     "metadata": {},
     "output_type": "execute_result"
    }
   ],
   "source": [
    "(adata.X == 1).sum()\n"
   ]
  },
  {
   "cell_type": "code",
   "execution_count": 7,
   "metadata": {},
   "outputs": [
    {
     "data": {
      "text/plain": [
       "25632158"
      ]
     },
     "execution_count": 7,
     "metadata": {},
     "output_type": "execute_result"
    }
   ],
   "source": [
    "(adata.X == 2).sum()\n"
   ]
  },
  {
   "cell_type": "markdown",
   "metadata": {},
   "source": [
    "Since there are many 2s compared to 1s, it's showing us the read counts. We can convert to the fragment counts using scvi.data.reads_to_fragments, but since I am having issues with scvi, I will use an alternative apprach of convert read counts to fragment counts: round the read counts to the nearest even count and divide by two- which in most cases is very close to the true fragment counts."
   ]
  },
  {
   "cell_type": "code",
   "execution_count": 8,
   "metadata": {},
   "outputs": [],
   "source": [
    "def round_to_even_csr(csr_mat):\n",
    "    # Access the data array of the CSR matrix\n",
    "    data = csr_mat.data\n",
    "    odd_data = data % 2 != 0\n",
    "    data[odd_data] = data[odd_data] + 1\n",
    "    data = data / 2\n",
    "    return csr_matrix((data, csr_mat.indices, csr_mat.indptr), shape=csr_mat.shape)"
   ]
  },
  {
   "cell_type": "code",
   "execution_count": 9,
   "metadata": {},
   "outputs": [],
   "source": [
    "adata.layers['fragments'] = round_to_even_csr(adata.X)"
   ]
  },
  {
   "cell_type": "code",
   "execution_count": 10,
   "metadata": {},
   "outputs": [
    {
     "data": {
      "text/plain": [
       "27249447"
      ]
     },
     "execution_count": 10,
     "metadata": {},
     "output_type": "execute_result"
    }
   ],
   "source": [
    "(adata.layers['fragments'] == 1).sum()"
   ]
  },
  {
   "cell_type": "code",
   "execution_count": 11,
   "metadata": {},
   "outputs": [
    {
     "data": {
      "text/plain": [
       "7233892"
      ]
     },
     "execution_count": 11,
     "metadata": {},
     "output_type": "execute_result"
    }
   ],
   "source": [
    "(adata.layers['fragments'] == 2).sum()"
   ]
  },
  {
   "cell_type": "code",
   "execution_count": 12,
   "metadata": {},
   "outputs": [
    {
     "name": "stdout",
     "output_type": "stream",
     "text": [
      "# regions before filtering: 115554\n",
      "# regions after filtering: 33142\n"
     ]
    }
   ],
   "source": [
    "print(\"# regions before filtering:\", adata.shape[-1])\n",
    "\n",
    "# compute the threshold: 5% of the cells\n",
    "min_cells = int(adata.shape[0] * 0.05)\n",
    "# in-place filtering of regions\n",
    "sc.pp.filter_genes(adata, min_cells=min_cells)\n",
    "\n",
    "print(\"# regions after filtering:\", adata.shape[-1])"
   ]
  }
 ],
 "metadata": {
  "kernelspec": {
   "display_name": "Python 3 (ipykernel)",
   "language": "python",
   "name": "python3"
  },
  "language_info": {
   "codemirror_mode": {
    "name": "ipython",
    "version": 3
   },
   "file_extension": ".py",
   "mimetype": "text/x-python",
   "name": "python",
   "nbconvert_exporter": "python",
   "pygments_lexer": "ipython3",
   "version": "3.10.14"
  }
 },
 "nbformat": 4,
 "nbformat_minor": 2
}
